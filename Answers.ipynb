{
 "cells": [
  {
   "cell_type": "markdown",
   "metadata": {},
   "source": [
    "# Session0"
   ]
  },
  {
   "cell_type": "markdown",
   "metadata": {},
   "source": [
    "## Question1\n",
    "\n",
    "consider the question \"find the number of zeros at the end of $n!$ number\n",
    "```python\n",
    "def findLastZeros0(n):\n",
    "    nfact=fact(n)\n",
    "    counter = 0\n",
    "    while nfact%10 == 0:\n",
    "        nfact/=10\n",
    "        counter+=1\n",
    "    return counter\n",
    "```\n",
    "And:\n",
    "```python\n",
    "def findLastZeros1(n):\n",
    "    counter = 0\n",
    "    t = 1\n",
    "    for i in str(fact(n))[::-1]:\n",
    "        t = int(i=='0' and t)\n",
    "        counter+=t\n",
    "    return counter\n",
    "```\n",
    "Or this is as same as:\n",
    "```python\n",
    "def findLastZeros2(n):\n",
    "    t=1\n",
    "    return sum((t:=int(i=='0' and t)) for i in str(fact(n))[::-1])\n",
    "```\n",
    "\n",
    "your task is to:\n",
    "1. find the time complexity of these functions, and find out wich one is faster\n",
    "2. find a faster way to compute same value"
   ]
  },
  {
   "cell_type": "markdown",
   "metadata": {},
   "source": [
    "## Answer1\n",
    "\n",
    "1. if input is $n$ we know $n!$ has $\\log(n!)$ digits, since there is a single array which loops over digits, the function runs in order of $\\mathcal{O}(\\log(n!))$ which is equal to $\\mathcal{O}(n\\log n)$"
   ]
  },
  {
   "cell_type": "code",
   "execution_count": 18,
   "metadata": {},
   "outputs": [
    {
     "name": "stdout",
     "output_type": "stream",
     "text": [
      "32\n",
      "32\n"
     ]
    }
   ],
   "source": [
    "from functools import reduce\n",
    "def fact(n):\n",
    "    return reduce(int.__mul__,range(1,n+1))\n",
    "\n",
    "def fact(n):\n",
    "    return reduce(lambda a,b:a*b ,range(1,n+1))\n",
    "\n",
    "fact = lambda n: reduce(int.__mul__,range(1,n+1))\n",
    "\n",
    "def findLastZeros0(n):\n",
    "    nfact=fact(n)\n",
    "    counter = 0\n",
    "    while nfact%10 == 0:\n",
    "        nfact//=10\n",
    "        counter+=1\n",
    "    return counter\n",
    "\n",
    "\n",
    "def findLastZeros2(n):\n",
    "    c = 0\n",
    "    while n>0:\n",
    "        c += n//5\n",
    "        n//=5\n",
    "    return c\n",
    "\n",
    "# python 3.8 syntax\n",
    "def findLastZeros2(n):\n",
    "    c = 0\n",
    "    while n:\n",
    "        c += (n:=n//5)\n",
    "    return c\n",
    "\n",
    "\n",
    "print(findLastZeros0(130))\n",
    "print(findLastZeros2(130))"
   ]
  },
  {
   "cell_type": "markdown",
   "metadata": {},
   "source": [
    "## Question2\n",
    "implement two functions to convert two-dimensional array to one-dimensional and vise versa\n",
    "\n",
    "here is a template code for you."
   ]
  },
  {
   "cell_type": "code",
   "execution_count": 2,
   "metadata": {},
   "outputs": [],
   "source": [
    "def _2Dto1D(arr,method='Row-major'):\n",
    "    if method not in ['Row-major','Col-major']:\n",
    "        raise ValueError(f\"mathod must be either 'Row-major' or 'Col-major' not {method}\")\n",
    "    l = []\n",
    "    if method == \"Row-major\":\n",
    "        for i in arr:\n",
    "            l += i\n",
    "    else:\n",
    "        for i in zip(*arr):\n",
    "            l += i\n",
    "    return l\n",
    "\n",
    "def _1Dto2D(arr,n,m,method='Row-major'):\n",
    "    assert method in ['Row-major','Col-major'], f\"method must be either 'Row-major' or 'Col-major' not {method}\"\n",
    "    assert n*m==len(arr), f\"{n*m=} which must be {len(arr)}\"\n",
    "    l = [[0]*m for i in range(n)]\n",
    "    if method == \"Row-major\":\n",
    "        c = 0\n",
    "        for i in range(n):\n",
    "            for j in range(m):\n",
    "                l[i][j] = arr[c]\n",
    "                c+=1\n",
    "    else:\n",
    "        c = 0\n",
    "        for i in range(m):\n",
    "            for j in range(n):\n",
    "                l[j][i] = arr[c]\n",
    "                c+=1\n",
    "    return l"
   ]
  },
  {
   "cell_type": "code",
   "execution_count": 3,
   "metadata": {},
   "outputs": [
    {
     "name": "stdout",
     "output_type": "stream",
     "text": [
      "[1, 5, 9, 2, 6, 10, 3, 7, 11, 4, 8, 12]\n",
      "[1, 2, 3, 4, 5, 6, 7, 8, 9, 10, 11, 12]\n"
     ]
    }
   ],
   "source": [
    "col = _2Dto1D([[1,2,3,4],[5,6,7,8],[9,10,11,12]],\"Col-major\")\n",
    "row = _2Dto1D([[1,2,3,4],[5,6,7,8],[9,10,11,12]])\n",
    "print(col)\n",
    "print(row)"
   ]
  },
  {
   "cell_type": "code",
   "execution_count": 4,
   "metadata": {},
   "outputs": [
    {
     "data": {
      "text/plain": [
       "[[1, 2, 3, 4], [5, 6, 7, 8], [9, 10, 11, 12]]"
      ]
     },
     "execution_count": 4,
     "metadata": {},
     "output_type": "execute_result"
    }
   ],
   "source": [
    "_1Dto2D(row,3,4)"
   ]
  },
  {
   "cell_type": "code",
   "execution_count": 5,
   "metadata": {},
   "outputs": [
    {
     "data": {
      "text/plain": [
       "[[1, 2, 3, 4], [5, 6, 7, 8], [9, 10, 11, 12]]"
      ]
     },
     "execution_count": 5,
     "metadata": {},
     "output_type": "execute_result"
    }
   ],
   "source": [
    "_1Dto2D(col,3,4,\"Col-major\")"
   ]
  },
  {
   "cell_type": "markdown",
   "metadata": {
    "pycharm": {
     "name": "#%% md\n"
    }
   },
   "source": [
    "## Session2"
   ]
  },
  {
   "cell_type": "markdown",
   "metadata": {
    "pycharm": {
     "name": "#%% md\n"
    }
   },
   "source": [
    "## Question 1\n",
    "\n",
    "the input is sequence of opening/closing parenthesis and brackets.your task is to find out if they are balanced or not.\n",
    "\n",
    "```python\n",
    "isBalanced(\"([])[]()\")             # True\n",
    "isBalanced(\"((([]([[]]()))))[()]\") # True\n",
    "isBalanced(\"([]]\")                 # False\n",
    "isBalanced(\"([)]\")                 # False\n",
    "isBalanced(\"][\")                   # False\n",
    "```"
   ]
  },
  {
   "cell_type": "code",
   "execution_count": 4,
   "metadata": {},
   "outputs": [
    {
     "name": "stdout",
     "output_type": "stream",
     "text": [
      "kAsrA is A good boy :)\n",
      "kasra-is-a-good-boy-:)\n",
      "ehsan is a good boy :)\n"
     ]
    }
   ],
   "source": [
    "a = \"kasra is a good boy :)\"\n",
    "print(a.replace(\"a\",\"A\"))\n",
    "print(a.replace(\" \",\"-\"))\n",
    "print(a.replace(\"kasra\",\"ehsan\"))"
   ]
  },
  {
   "cell_type": "code",
   "execution_count": 6,
   "metadata": {
    "pycharm": {
     "name": "#%%\n"
    }
   },
   "outputs": [
    {
     "name": "stdout",
     "output_type": "stream",
     "text": [
      "all answers was correct\n"
     ]
    }
   ],
   "source": [
    "def is_balanced_(exp:str):\n",
    "    pairs = [\"()\",\"[]\",\"{}\"]\n",
    "    while exp:\n",
    "        new_exp = exp\n",
    "        for i in pairs:\n",
    "            new_exp = new_exp.replace(i,\"\")\n",
    "            \n",
    "#         new_exp = new_exp.replace(\"()\",\"\")\n",
    "#         new_exp = new_exp.replace(\"[]\",\"\")\n",
    "#         new_exp = new_exp.replace(\"{}\",\"\")\n",
    "        if new_exp == exp:\n",
    "            return False\n",
    "        exp = new_exp\n",
    "    return True\n",
    "assert is_balanced_(\"([])[]()\")             == True\n",
    "assert is_balanced_(\"((([]([[]]()))))[()]\") == True\n",
    "assert is_balanced_(\"([]]\")                 == False\n",
    "assert is_balanced_(\"([)]\")                 == False\n",
    "assert is_balanced_(\"][\")                   == False\n",
    "print(\"all answers was correct\")"
   ]
  },
  {
   "cell_type": "code",
   "execution_count": 12,
   "metadata": {},
   "outputs": [
    {
     "data": {
      "text/plain": [
       "3"
      ]
     },
     "execution_count": 12,
     "metadata": {},
     "output_type": "execute_result"
    }
   ],
   "source": [
    "a = [10,23,\"kasra\",\"test\",100]\n",
    "a.index(\"test\")"
   ]
  },
  {
   "cell_type": "code",
   "execution_count": 14,
   "metadata": {
    "pycharm": {
     "name": "#%%\n"
    }
   },
   "outputs": [
    {
     "name": "stdout",
     "output_type": "stream",
     "text": [
      "all answers was correct\n"
     ]
    }
   ],
   "source": [
    "class Stack:\n",
    "    def __init__(self):\n",
    "        self.stack= []\n",
    "    def push(self,item):\n",
    "        self.stack.append(item)\n",
    "    def pop(self):\n",
    "        return self.stack.pop(-1)\n",
    "    def last(self):\n",
    "        return self.stack[-1]\n",
    "    def __len__(self):\n",
    "        return len(self.stack)\n",
    "    def __str__(self):\n",
    "        return str(self.stack)\n",
    "    def __repr__(self):\n",
    "        return \" - \".join([str(i) for i in self.stack])\n",
    "    def __bool__(self):\n",
    "        return self.stack != []\n",
    "\n",
    "def is_balanced(exp):\n",
    "    validator_stack = Stack()\n",
    "    opening = ['[','(',\"{\"]\n",
    "    closing = [']',')',\"}\"]\n",
    "    for i in exp:\n",
    "        if i in opening:\n",
    "            validator_stack.push(i)\n",
    "        elif i in closing:\n",
    "            if not validator_stack:\n",
    "                return False\n",
    "            if opening.index(validator_stack.last()) != closing.index(i):\n",
    "                return False\n",
    "            # here is another approach for same condition:\n",
    "            # if not(validator_stack.last() == \"(\" and i==\")\"):\n",
    "            #     return False\n",
    "            # if not(validator_stack.last() == \"[\" and i==\"]\"):\n",
    "            #     return False\n",
    "            # why first approach is better?\n",
    "            validator_stack.pop()\n",
    "\n",
    "#     if validator_stack:\n",
    "#         return False\n",
    "#     else:\n",
    "#         return True\n",
    "    return not validator_stack\n",
    "\n",
    "assert is_balanced(\"([])[]()\")             == True\n",
    "assert is_balanced(\"((([]([[]]()))))[()]\") == True\n",
    "assert is_balanced(\"([]]\")                 == False\n",
    "assert is_balanced(\"([)]\")                 == False\n",
    "assert is_balanced(\"][\")                   == False\n",
    "print(\"all answers was correct\")"
   ]
  },
  {
   "cell_type": "markdown",
   "metadata": {},
   "source": [
    "# Sesson 3"
   ]
  },
  {
   "cell_type": "markdown",
   "metadata": {},
   "source": [
    "## Question1\n",
    "\n",
    "implement a Queue class using arrays in which the order of `enqueue` and `dequeue` is $\\mathcal{O}(1)$"
   ]
  },
  {
   "cell_type": "code",
   "execution_count": 25,
   "metadata": {
    "pycharm": {
     "name": "#%%\n"
    }
   },
   "outputs": [
    {
     "data": {
      "text/plain": [
       "0,1,2,3,4"
      ]
     },
     "execution_count": 25,
     "metadata": {},
     "output_type": "execute_result"
    }
   ],
   "source": [
    "class OverflowException(Exception):\n",
    "    pass\n",
    "\n",
    "class UnderflowException(Exception):\n",
    "    pass\n",
    "\n",
    "class Queue:\n",
    "    def __init__(self,size):\n",
    "        self.size = size+1\n",
    "        self.head = 0\n",
    "        self.tail = 0\n",
    "        self.data = [None]*self.size\n",
    "        \n",
    "    def is_full(self):\n",
    "        return self.head == (self.tail+1)%self.size\n",
    "    \n",
    "    def is_empty(self):\n",
    "        return self.tail == self.head\n",
    "    \n",
    "    def push(self,item):\n",
    "        if self.is_full():\n",
    "            raise OverflowException(f\"cant exceed {self.size}\")\n",
    "        self.data[self.tail] = item\n",
    "        self.tail = (self.tail+1)%self.size\n",
    "        \n",
    "    def pop(self):\n",
    "        if self.is_empty():\n",
    "            raise UnderflowException(\"cant pop from empty queue!\")\n",
    "        resp = self.data[self.head]\n",
    "        self.head = (self.head+1)%self.size\n",
    "        return resp\n",
    "    \n",
    "    def __str__(self):\n",
    "        i = self.head\n",
    "        resp = []\n",
    "        while 1:\n",
    "            resp.append(str(self.data[i]))\n",
    "            i = (i+1)%self.size\n",
    "            if i==self.tail:\n",
    "                break\n",
    "        return \",\".join(resp)\n",
    "    \n",
    "    def __repr__(self):\n",
    "        return str(self)\n",
    "\n",
    "q = Queue(size = 5)\n",
    "q.push(0)\n",
    "q.push(1)\n",
    "q.push(2)\n",
    "q.push(3)\n",
    "q.push(4)\n",
    "q"
   ]
  },
  {
   "cell_type": "code",
   "execution_count": 26,
   "metadata": {
    "pycharm": {
     "name": "#%%\n"
    }
   },
   "outputs": [
    {
     "name": "stdout",
     "output_type": "stream",
     "text": [
      "0\n",
      "1\n",
      "2,3,4\n",
      "q is  2,3,4,5,6\n",
      "[6, 1, 2, 3, 4, 5]\n"
     ]
    }
   ],
   "source": [
    "print(q.pop())\n",
    "print(q.pop())\n",
    "print(q)\n",
    "q.push(5)\n",
    "q.push(6)\n",
    "print(\"q is \",q)\n",
    "print(q.data)"
   ]
  },
  {
   "cell_type": "markdown",
   "metadata": {
    "pycharm": {
     "name": "#%% md\n"
    }
   },
   "source": [
    "## Question 2\n",
    "\n",
    "Your task is to construct a tower in $N$ days by following these conditions:\n",
    "Every day you are provided with one disk of distinct size.\n",
    "\n",
    "- The disk with larger sizes should be placed at the bottom of the tower.\n",
    "- The disk with smaller sizes should be placed at the top of the tower.\n",
    "\n",
    "The order in which tower must be constructed is as follows:\n",
    "> You cannot put a new disk on the top of the tower until all the larger disks that are given to you get placed.\n",
    "\n",
    "you have this limitations:\n",
    "- each day you are given single disk\n",
    "- each day you can construct only one dist\n",
    "\n",
    "find the $N$"
   ]
  },
  {
   "cell_type": "code",
   "execution_count": 1,
   "metadata": {
    "pycharm": {
     "name": "#%%\n"
    }
   },
   "outputs": [
    {
     "data": {
      "text/plain": [
       "8"
      ]
     },
     "execution_count": 1,
     "metadata": {},
     "output_type": "execute_result"
    }
   ],
   "source": [
    "def tower_constructor(disk_sequence):\n",
    "    day = 0\n",
    "    storage= []\n",
    "    tower = []\n",
    "    while disk_sequence:\n",
    "        max_total = max(disk_sequence + storage)\n",
    "#         max_total = max(max(disk_sequence),max(storage))\n",
    "        day += 1\n",
    "        current_disk = disk_sequence.pop(0)\n",
    "        storage.append(current_disk)\n",
    "        for i in storage:\n",
    "            if i == max_total:\n",
    "                storage.remove(i)\n",
    "                tower.append(i)\n",
    "    while storage:\n",
    "        max_total= max(disk_sequence+ storage)\n",
    "        day +=1\n",
    "        tower.append(max_total)\n",
    "        storage.remove(max_total)\n",
    "\n",
    "    return day\n",
    "disk_sequence = [1,2,4,5,3]\n",
    "tower_constructor(disk_sequence)"
   ]
  },
  {
   "cell_type": "markdown",
   "metadata": {
    "pycharm": {
     "name": "#%% md\n"
    }
   },
   "source": [
    "# Session4"
   ]
  },
  {
   "cell_type": "markdown",
   "metadata": {
    "pycharm": {
     "name": "#%% md\n"
    }
   },
   "source": [
    "## Questions 1\n",
    "\n",
    "- implement a function to find the number of nodes in the binary tree"
   ]
  },
  {
   "cell_type": "code",
   "execution_count": 1,
   "metadata": {
    "pycharm": {
     "name": "#%%\n"
    }
   },
   "outputs": [
    {
     "name": "stdout",
     "output_type": "stream",
     "text": [
      "5\n"
     ]
    }
   ],
   "source": [
    "class Node:\n",
    "    def __init__(self,data,left=None,right=None):\n",
    "        self.left = left\n",
    "        self.right = right\n",
    "        self.data = data\n",
    "    def is_leaf(self):\n",
    "        return self.left is None and self.right is None\n",
    "\n",
    "def count(root: Node):\n",
    "    if root is None:\n",
    "        return 0\n",
    "    return count(root.left) + count(root.right) + 1\n",
    "\n",
    "exp1 = Node(data = lambda a,b:a*b)\n",
    "exp1.left = Node(3)\n",
    "exp1.right = Node(lambda a,b:a+b)\n",
    "exp1.right.left = Node(4)\n",
    "exp1.right.right = Node(5)\n",
    "print(count(exp1))"
   ]
  },
  {
   "cell_type": "markdown",
   "metadata": {
    "pycharm": {
     "name": "#%% md\n"
    }
   },
   "source": [
    "# Session5"
   ]
  },
  {
   "cell_type": "markdown",
   "metadata": {
    "pycharm": {
     "name": "#%% md\n"
    }
   },
   "source": [
    "## Question1:\n",
    "make a tree that introduces the expression `2+3*5*(4+8)`(like what we did in last session)\n",
    "and find witch traverse can print it correctly"
   ]
  },
  {
   "cell_type": "code",
   "execution_count": 2,
   "metadata": {
    "pycharm": {
     "name": "#%%\n"
    }
   },
   "outputs": [],
   "source": [
    "class Node:\n",
    "    def __init__(self,data,left=None,right=None):\n",
    "        self.left = left\n",
    "        self.right = right\n",
    "        self.data = data\n",
    "    def is_leaf(self):\n",
    "        return self.left is None and self.right is None\n",
    "    def __str__(self):\n",
    "        return str(self.data)\n",
    "    def __repr__(self):\n",
    "        return str(self)\n",
    "\n",
    "add = lambda a,b:a+b\n",
    "mul = lambda a,b:a*b\n",
    "exp1 = Node(add,left=Node(2))\n",
    "exp1.right = Node(mul,left=Node(3))\n",
    "exp1.right.right = Node(mul,left=Node(5))\n",
    "exp1.right.right.right = Node(add,left=Node(4),right=Node(8))\n",
    "\n",
    "exp2 = Node(add,\n",
    "            left=Node(2),\n",
    "            right=Node(mul,\n",
    "                       left=Node(mul,\n",
    "                                 left=Node(3),\n",
    "                                 right=Node(5)),\n",
    "                       right=Node(add,\n",
    "                                  left=Node(4),\n",
    "                                  right=Node(8))))"
   ]
  },
  {
   "cell_type": "markdown",
   "metadata": {
    "pycharm": {
     "name": "#%% md\n"
    }
   },
   "source": [
    "![2+3*5*(4+8)](Answers/S5_Q1_exp1.jpg)\n",
    "![2+3*5*(4+8)](Answers/S5_Q1_exp2.jpg)"
   ]
  },
  {
   "cell_type": "markdown",
   "metadata": {
    "pycharm": {
     "name": "#%% md\n"
    }
   },
   "source": [
    "## Question2:\n",
    "implementing `dfs` using recursive approach can cause some problems\n",
    "1. try to produce that problem\n",
    "2. implement this functions using other approach(use stacks)"
   ]
  },
  {
   "cell_type": "code",
   "execution_count": 3,
   "metadata": {
    "pycharm": {
     "name": "#%%\n"
    }
   },
   "outputs": [
    {
     "data": {
      "text/plain": [
       "199"
      ]
     },
     "execution_count": 3,
     "metadata": {},
     "output_type": "execute_result"
    }
   ],
   "source": [
    "def create_big_tree(n):\n",
    "    root = Node(1,right=Node(0))\n",
    "    t = root\n",
    "    for i in range(2,n):\n",
    "        t.left = Node(i,right=Node(0))\n",
    "        t = t.left\n",
    "    t.left = Node(n)\n",
    "    return root\n",
    "\n",
    "test = create_big_tree(100)\n",
    "count(test)"
   ]
  },
  {
   "cell_type": "markdown",
   "metadata": {
    "pycharm": {
     "name": "#%% md\n"
    }
   },
   "source": [
    "![big_tree_shema](Answers/S5_Q1_schema.jpg)"
   ]
  },
  {
   "cell_type": "code",
   "execution_count": 6,
   "metadata": {
    "pycharm": {
     "name": "#%%\n"
    }
   },
   "outputs": [
    {
     "ename": "RecursionError",
     "evalue": "maximum recursion depth exceeded",
     "output_type": "error",
     "traceback": [
      "\u001B[0;31m---------------------------------------------------------------------------\u001B[0m",
      "\u001B[0;31mRecursionError\u001B[0m                            Traceback (most recent call last)",
      "\u001B[0;32m<ipython-input-6-dab6709e681c>\u001B[0m in \u001B[0;36m<module>\u001B[0;34m\u001B[0m\n\u001B[1;32m      5\u001B[0m     \u001B[0mprint\u001B[0m\u001B[0;34m(\u001B[0m\u001B[0mtree\u001B[0m\u001B[0;34m)\u001B[0m\u001B[0;34m\u001B[0m\u001B[0;34m\u001B[0m\u001B[0m\n\u001B[1;32m      6\u001B[0m     \u001B[0mdfs_inOrder\u001B[0m\u001B[0;34m(\u001B[0m\u001B[0mtree\u001B[0m\u001B[0;34m.\u001B[0m\u001B[0mright\u001B[0m\u001B[0;34m)\u001B[0m\u001B[0;34m\u001B[0m\u001B[0;34m\u001B[0m\u001B[0m\n\u001B[0;32m----> 7\u001B[0;31m \u001B[0mdfs_inOrder\u001B[0m\u001B[0;34m(\u001B[0m\u001B[0mcreate_big_tree\u001B[0m\u001B[0;34m(\u001B[0m\u001B[0;36m10\u001B[0m\u001B[0;34m**\u001B[0m\u001B[0;36m4\u001B[0m\u001B[0;34m-\u001B[0m\u001B[0;36m1\u001B[0m\u001B[0;34m)\u001B[0m\u001B[0;34m)\u001B[0m\u001B[0;34m\u001B[0m\u001B[0;34m\u001B[0m\u001B[0m\n\u001B[0m",
      "\u001B[0;32m<ipython-input-6-dab6709e681c>\u001B[0m in \u001B[0;36mdfs_inOrder\u001B[0;34m(tree)\u001B[0m\n\u001B[1;32m      2\u001B[0m     \u001B[0;32mif\u001B[0m \u001B[0mtree\u001B[0m \u001B[0;32mis\u001B[0m \u001B[0;32mNone\u001B[0m\u001B[0;34m:\u001B[0m\u001B[0;34m\u001B[0m\u001B[0;34m\u001B[0m\u001B[0m\n\u001B[1;32m      3\u001B[0m         \u001B[0;32mreturn\u001B[0m \u001B[0;36m0\u001B[0m\u001B[0;34m\u001B[0m\u001B[0;34m\u001B[0m\u001B[0m\n\u001B[0;32m----> 4\u001B[0;31m     \u001B[0mdfs_inOrder\u001B[0m\u001B[0;34m(\u001B[0m\u001B[0mtree\u001B[0m\u001B[0;34m.\u001B[0m\u001B[0mleft\u001B[0m\u001B[0;34m)\u001B[0m\u001B[0;34m\u001B[0m\u001B[0;34m\u001B[0m\u001B[0m\n\u001B[0m\u001B[1;32m      5\u001B[0m     \u001B[0mprint\u001B[0m\u001B[0;34m(\u001B[0m\u001B[0mtree\u001B[0m\u001B[0;34m)\u001B[0m\u001B[0;34m\u001B[0m\u001B[0;34m\u001B[0m\u001B[0m\n\u001B[1;32m      6\u001B[0m     \u001B[0mdfs_inOrder\u001B[0m\u001B[0;34m(\u001B[0m\u001B[0mtree\u001B[0m\u001B[0;34m.\u001B[0m\u001B[0mright\u001B[0m\u001B[0;34m)\u001B[0m\u001B[0;34m\u001B[0m\u001B[0;34m\u001B[0m\u001B[0m\n",
      "... last 1 frames repeated, from the frame below ...\n",
      "\u001B[0;32m<ipython-input-6-dab6709e681c>\u001B[0m in \u001B[0;36mdfs_inOrder\u001B[0;34m(tree)\u001B[0m\n\u001B[1;32m      2\u001B[0m     \u001B[0;32mif\u001B[0m \u001B[0mtree\u001B[0m \u001B[0;32mis\u001B[0m \u001B[0;32mNone\u001B[0m\u001B[0;34m:\u001B[0m\u001B[0;34m\u001B[0m\u001B[0;34m\u001B[0m\u001B[0m\n\u001B[1;32m      3\u001B[0m         \u001B[0;32mreturn\u001B[0m \u001B[0;36m0\u001B[0m\u001B[0;34m\u001B[0m\u001B[0;34m\u001B[0m\u001B[0m\n\u001B[0;32m----> 4\u001B[0;31m     \u001B[0mdfs_inOrder\u001B[0m\u001B[0;34m(\u001B[0m\u001B[0mtree\u001B[0m\u001B[0;34m.\u001B[0m\u001B[0mleft\u001B[0m\u001B[0;34m)\u001B[0m\u001B[0;34m\u001B[0m\u001B[0;34m\u001B[0m\u001B[0m\n\u001B[0m\u001B[1;32m      5\u001B[0m     \u001B[0mprint\u001B[0m\u001B[0;34m(\u001B[0m\u001B[0mtree\u001B[0m\u001B[0;34m)\u001B[0m\u001B[0;34m\u001B[0m\u001B[0;34m\u001B[0m\u001B[0m\n\u001B[1;32m      6\u001B[0m     \u001B[0mdfs_inOrder\u001B[0m\u001B[0;34m(\u001B[0m\u001B[0mtree\u001B[0m\u001B[0;34m.\u001B[0m\u001B[0mright\u001B[0m\u001B[0;34m)\u001B[0m\u001B[0;34m\u001B[0m\u001B[0;34m\u001B[0m\u001B[0m\n",
      "\u001B[0;31mRecursionError\u001B[0m: maximum recursion depth exceeded"
     ]
    }
   ],
   "source": [
    "def dfs_inOrder(tree: Node):\n",
    "    if tree is None:\n",
    "        return 0\n",
    "    dfs_inOrder(tree.left)\n",
    "    print(tree)\n",
    "    dfs_inOrder(tree.right)\n",
    "dfs_inOrder(create_big_tree(10**4-1))"
   ]
  },
  {
   "cell_type": "code",
   "execution_count": 9,
   "metadata": {
    "pycharm": {
     "name": "#%%\n"
    }
   },
   "outputs": [
    {
     "name": "stdout",
     "output_type": "stream",
     "text": [
      "3\n",
      "2\n",
      "0\n",
      "1\n",
      "0\n"
     ]
    }
   ],
   "source": [
    "def inOrder(root):\n",
    "    stack=[]\n",
    "    while 1:\n",
    "        if root is not None:\n",
    "            stack.append(root)\n",
    "            root=root.left\n",
    "        else:\n",
    "            if len(stack)==0:\n",
    "                break\n",
    "            else:\n",
    "                root=stack.pop()\n",
    "                print(root.data)\n",
    "                root=root.right\n",
    "inOrder(create_big_tree(3))"
   ]
  },
  {
   "cell_type": "code",
   "execution_count": 10,
   "metadata": {},
   "outputs": [
    {
     "name": "stdout",
     "output_type": "stream",
     "text": [
      "1\n",
      "3\n",
      "4\n",
      "6\n",
      "7\n",
      "8\n",
      "10\n",
      "13\n",
      "14\n"
     ]
    }
   ],
   "source": [
    "t = Node(8)\n",
    "t.left = Node(3,left = Node(1))\n",
    "t.left.right = Node(6,left = Node(4),right = Node(7))\n",
    "t.right = Node(10)\n",
    "t.right.right = Node(14,left = Node(13))\n",
    "inOrder(t)"
   ]
  },
  {
   "cell_type": "markdown",
   "metadata": {},
   "source": [
    "# Session 6"
   ]
  },
  {
   "cell_type": "markdown",
   "metadata": {
    "pycharm": {
     "name": "#%% md\n"
    }
   },
   "source": [
    "## Question 2"
   ]
  },
  {
   "cell_type": "code",
   "execution_count": 3,
   "metadata": {
    "pycharm": {
     "name": "#%%\n"
    }
   },
   "outputs": [
    {
     "name": "stdout",
     "output_type": "stream",
     "text": [
      "[2, '+', 3, '+', 6, '*', 5, '+', 'AB', '+', 34, '/', 54, '+', '(', 34, '*', 23, ')']\n"
     ]
    }
   ],
   "source": [
    "def tokenizer(exp):\n",
    "    \"A*BB+C*40\"\n",
    "    tokenized = []\n",
    "    operators = set('()+-*/=%')\n",
    "    digits = set(\"0123456789\")\n",
    "    letters = set(\"abcdefghijklmnopqrstuvwxyzABCDEFGHIJKLMNOPQRSTUVWXYZ\")\n",
    "    ignored_char = \"\\t \"\n",
    "    is_word = False\n",
    "    is_number = False\n",
    "    for i in exp:\n",
    "        if i in ignored_char: continue\n",
    "        elif i in digits:\n",
    "            if is_number:\n",
    "                tokenized[-1] = tokenized[-1]*10+int(i)\n",
    "            else:\n",
    "                tokenized.append(int(i))\n",
    "                is_number = True\n",
    "        elif i in letters:\n",
    "            if is_word:\n",
    "                tokenized[-1] += i\n",
    "            else:\n",
    "                tokenized.append(i)\n",
    "                is_word = True\n",
    "        elif i in operators:\n",
    "            is_word =False\n",
    "            is_number=False\n",
    "            tokenized.append(i)\n",
    "        else:\n",
    "            raise ValueError(f\"unexpected char {i}\")\n",
    "    return tokenized\n",
    "\n",
    "print(tokenizer(\"2+3+6*5+AB+34/54+(34*23)\"))"
   ]
  },
  {
   "cell_type": "markdown",
   "metadata": {
    "pycharm": {
     "name": "#%% md\n"
    }
   },
   "source": [
    "# Session 4"
   ]
  },
  {
   "cell_type": "markdown",
   "metadata": {
    "pycharm": {
     "name": "#%% md\n"
    }
   },
   "source": [
    "## Question 2\n",
    "implement a tree, in which it can store many words.\n",
    "\n",
    "![Trie](Session4/Trie.png)\n",
    "\n",
    "let's implement word tokenizer in this session\n",
    "we have two ways to do so"
   ]
  },
  {
   "cell_type": "markdown",
   "metadata": {
    "pycharm": {
     "name": "#%% md\n"
    }
   },
   "source": [
    "the first way is to use `nltk` module"
   ]
  },
  {
   "cell_type": "code",
   "execution_count": 4,
   "metadata": {
    "pycharm": {
     "name": "#%%\n"
    }
   },
   "outputs": [
    {
     "data": {
      "text/plain": [
       "['hello',\n",
       " 'my',\n",
       " 'name',\n",
       " 'is',\n",
       " 'kasra',\n",
       " '!',\n",
       " 'I',\n",
       " 'am',\n",
       " 'a',\n",
       " 'good',\n",
       " 'boy.i',\n",
       " 'go',\n",
       " 'to',\n",
       " 'bus',\n",
       " 'every',\n",
       " 'day',\n",
       " 'by',\n",
       " 'school',\n",
       " '!',\n",
       " '!',\n",
       " '!',\n",
       " '!',\n",
       " '!']"
      ]
     },
     "execution_count": 4,
     "metadata": {},
     "output_type": "execute_result"
    }
   ],
   "source": [
    "from nltk import word_tokenize\n",
    "word_tokenize(\"hello my name is kasra!I am a good boy.i go to bus every day by school!!!!!\")"
   ]
  },
  {
   "cell_type": "code",
   "execution_count": 9,
   "metadata": {
    "pycharm": {
     "name": "#%%\n"
    }
   },
   "outputs": [
    {
     "name": "stdout",
     "output_type": "stream",
     "text": [
      "!\"#$%&'()*+,-./:;<=>?@[\\]^_`{|}~\n"
     ]
    }
   ],
   "source": [
    "from string import punctuation\n",
    "import re\n",
    "print(punctuation)"
   ]
  },
  {
   "cell_type": "code",
   "execution_count": 7,
   "metadata": {
    "pycharm": {
     "name": "#%%\n"
    }
   },
   "outputs": [
    {
     "data": {
      "text/plain": [
       "['hello',\n",
       " 'my',\n",
       " 'name',\n",
       " 'is',\n",
       " 'kasra',\n",
       " 'I',\n",
       " 'am',\n",
       " 'a',\n",
       " 'good',\n",
       " 'boy',\n",
       " 'i',\n",
       " 'go',\n",
       " 'to',\n",
       " 'bus',\n",
       " 'every',\n",
       " 'day',\n",
       " 'by',\n",
       " 'school']"
      ]
     },
     "execution_count": 7,
     "metadata": {},
     "output_type": "execute_result"
    }
   ],
   "source": [
    "def word_tokenizer(exp):\n",
    "    return [i for i in re.sub(f'[{punctuation}]',\" \",exp).split(\" \") if i]\n",
    "word_tokenizer(\"hello my name is kasra!I am a good boy.i go to bus every day by school!!!!!\")"
   ]
  },
  {
   "cell_type": "code",
   "execution_count": 14,
   "metadata": {
    "pycharm": {
     "name": "#%%\n"
    }
   },
   "outputs": [
    {
     "data": {
      "text/plain": [
       "[]"
      ]
     },
     "execution_count": 14,
     "metadata": {},
     "output_type": "execute_result"
    }
   ],
   "source": [
    "def word_tokenizer(exp):\n",
    "    for t in re.finditer(exp,r\"\\w\"):\n",
    "        if t not in punctuation:\n",
    "            yield t\n",
    "list(word_tokenizer(\"hello my name is kasra!I am a good boy.i go to bus every day by school!!!!!\"))"
   ]
  },
  {
   "cell_type": "code",
   "execution_count": 13,
   "metadata": {},
   "outputs": [
    {
     "name": "stdout",
     "output_type": "stream",
     "text": [
      "1\\n1\n"
     ]
    }
   ],
   "source": [
    "print(r\"1\\n1\")"
   ]
  },
  {
   "cell_type": "markdown",
   "metadata": {
    "pycharm": {
     "name": "#%% md\n"
    }
   },
   "source": [
    "# Session7"
   ]
  },
  {
   "cell_type": "markdown",
   "metadata": {
    "pycharm": {
     "name": "#%% md\n"
    }
   },
   "source": [
    "## Question1"
   ]
  },
  {
   "cell_type": "code",
   "execution_count": 25,
   "metadata": {
    "pycharm": {
     "name": "#%%\n"
    }
   },
   "outputs": [
    {
     "name": "stdout",
     "output_type": "stream",
     "text": [
      "2\n",
      "1\n",
      "2\n"
     ]
    }
   ],
   "source": [
    "def hamming_distance(a,b):\n",
    "    return sum([1 for i,j in zip(a,b) if i!=j])+abs(len(a)-len(b))\n",
    "print(hamming_distance([1,2,3,4,5],[1,2,4,4,6]))\n",
    "print(hamming_distance([1,2,3,4,5],[1,2,4,4,5]))\n",
    "print(hamming_distance([1,2,3,4,5],[1,2,3]))"
   ]
  },
  {
   "cell_type": "code",
   "execution_count": 31,
   "metadata": {
    "pycharm": {
     "name": "#%%\n"
    }
   },
   "outputs": [
    {
     "name": "stdout",
     "output_type": "stream",
     "text": [
      "2\n",
      "1\n",
      "2\n",
      "2\n"
     ]
    }
   ],
   "source": [
    "import numpy as np\n",
    "def hamming_distance(a,b):\n",
    "    a = np.array(a)\n",
    "    b = np.array(b)\n",
    "    tmp = abs(a.size-b.size)\n",
    "    b.resize(min(a.size,b.size))\n",
    "    a.resize(min(a.size,b.size))\n",
    "    return np.abs(np.sign(a-b)).sum()+tmp\n",
    "print(hamming_distance([1,2,3,4,5],[1,2,4,4,6]))\n",
    "print(hamming_distance([1,2,3,4,5],[1,2,4,4,5]))\n",
    "print(hamming_distance([1,2,3,0,0],[1,2,3]))\n",
    "print(hamming_distance([1,2,3,4,5],[1,2,3]))"
   ]
  },
  {
   "cell_type": "code",
   "execution_count": 25,
   "metadata": {
    "pycharm": {
     "name": "#%%\n"
    }
   },
   "outputs": [
    {
     "data": {
      "text/plain": [
       "array([[1, 2],\n",
       "       [3, 4]])"
      ]
     },
     "execution_count": 25,
     "metadata": {},
     "output_type": "execute_result"
    }
   ],
   "source": [
    "a = np.array([[1,2],[3,4]])\n",
    "# print(a.resize(3))\n",
    "a"
   ]
  },
  {
   "cell_type": "code",
   "execution_count": 24,
   "metadata": {},
   "outputs": [
    {
     "data": {
      "text/plain": [
       "array([1, 2, 3, 4])"
      ]
     },
     "execution_count": 24,
     "metadata": {},
     "output_type": "execute_result"
    }
   ],
   "source": [
    "a.ravel()"
   ]
  },
  {
   "cell_type": "code",
   "execution_count": null,
   "metadata": {},
   "outputs": [],
   "source": []
  }
 ],
 "metadata": {
  "kernelspec": {
   "display_name": "PyCharm (HW3)",
   "language": "python",
   "name": "pycharm-689d67d1"
  },
  "language_info": {
   "codemirror_mode": {
    "name": "ipython",
    "version": 3
   },
   "file_extension": ".py",
   "mimetype": "text/x-python",
   "name": "python",
   "nbconvert_exporter": "python",
   "pygments_lexer": "ipython3",
   "version": "3.8.5"
  }
 },
 "nbformat": 4,
 "nbformat_minor": 4
}