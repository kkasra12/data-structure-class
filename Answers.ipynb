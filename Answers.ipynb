{
 "cells": [
  {
   "cell_type": "markdown",
   "metadata": {},
   "source": [
    "# Session0"
   ]
  },
  {
   "cell_type": "markdown",
   "metadata": {},
   "source": [
    "## Question1\n",
    "\n",
    "consider the question \"find the number of zeros at the end of $n!$ number\n",
    "```python\n",
    "def findLastZeros0(n):\n",
    "    nfact=fact(n)\n",
    "    counter = 0\n",
    "    while nfact%10 == 0:\n",
    "        nfact/=10\n",
    "        counter+=1\n",
    "    return counter\n",
    "```\n",
    "And:\n",
    "```python\n",
    "def findLastZeros1(n):\n",
    "    counter = 0\n",
    "    t = 1\n",
    "    for i in str(fact(n))[::-1]:\n",
    "        t = int(i=='0' and t)\n",
    "        counter+=t\n",
    "    return counter\n",
    "```\n",
    "Or this is as same as:\n",
    "```python\n",
    "def findLastZeros2(n):\n",
    "    t=1\n",
    "    return sum((t:=int(i=='0' and t)) for i in str(fact(n))[::-1])\n",
    "```\n",
    "\n",
    "your task is to:\n",
    "1. find the time complexity of these functions, and find out wich one is faster\n",
    "2. find a faster way to compute same value"
   ]
  },
  {
   "cell_type": "markdown",
   "metadata": {},
   "source": [
    "## Answer1\n",
    "\n",
    "1. if input is $n$ we know $n!$ has $\\log(n!)$ digits, since there is a single array which loops over digits, the function runs in order of $\\mathcal{O}(\\log(n!))$ which is equal to $\\mathcal{O}(n\\log n)$"
   ]
  },
  {
   "cell_type": "code",
   "execution_count": 18,
   "metadata": {},
   "outputs": [
    {
     "name": "stdout",
     "output_type": "stream",
     "text": [
      "32\n",
      "32\n"
     ]
    }
   ],
   "source": [
    "from functools import reduce\n",
    "def fact(n):\n",
    "    return reduce(int.__mul__,range(1,n+1))\n",
    "\n",
    "def fact(n):\n",
    "    return reduce(lambda a,b:a*b ,range(1,n+1))\n",
    "\n",
    "fact = lambda n: reduce(int.__mul__,range(1,n+1))\n",
    "\n",
    "def findLastZeros0(n):\n",
    "    nfact=fact(n)\n",
    "    counter = 0\n",
    "    while nfact%10 == 0:\n",
    "        nfact//=10\n",
    "        counter+=1\n",
    "    return counter\n",
    "\n",
    "\n",
    "def findLastZeros2(n):\n",
    "    c = 0\n",
    "    while n>0:\n",
    "        c += n//5\n",
    "        n//=5\n",
    "    return c\n",
    "\n",
    "# python 3.8 syntax\n",
    "def findLastZeros2(n):\n",
    "    c = 0\n",
    "    while n:\n",
    "        c += (n:=n//5)\n",
    "    return c\n",
    "\n",
    "\n",
    "print(findLastZeros0(130))\n",
    "print(findLastZeros2(130))"
   ]
  },
  {
   "cell_type": "markdown",
   "metadata": {},
   "source": [
    "## Question2\n",
    "implement two functions to convert two-dimensional array to one-dimensional and vise versa\n",
    "\n",
    "here is a template code for you."
   ]
  },
  {
   "cell_type": "code",
   "execution_count": 2,
   "metadata": {},
   "outputs": [],
   "source": [
    "def _2Dto1D(arr,method='Row-major'):\n",
    "    if method not in ['Row-major','Col-major']:\n",
    "        raise ValueError(f\"mathod must be either 'Row-major' or 'Col-major' not {method}\")\n",
    "    l = []\n",
    "    if method == \"Row-major\":\n",
    "        for i in arr:\n",
    "            l += i\n",
    "    else:\n",
    "        for i in zip(*arr):\n",
    "            l += i\n",
    "    return l\n",
    "\n",
    "def _1Dto2D(arr,n,m,method='Row-major'):\n",
    "    assert method in ['Row-major','Col-major'], f\"method must be either 'Row-major' or 'Col-major' not {method}\"\n",
    "    assert n*m==len(arr), f\"{n*m=} which must be {len(arr)}\"\n",
    "    l = [[0]*m for i in range(n)]\n",
    "    if method == \"Row-major\":\n",
    "        c = 0\n",
    "        for i in range(n):\n",
    "            for j in range(m):\n",
    "                l[i][j] = arr[c]\n",
    "                c+=1\n",
    "    else:\n",
    "        c = 0\n",
    "        for i in range(m):\n",
    "            for j in range(n):\n",
    "                l[j][i] = arr[c]\n",
    "                c+=1\n",
    "    return l"
   ]
  },
  {
   "cell_type": "code",
   "execution_count": 3,
   "metadata": {},
   "outputs": [
    {
     "name": "stdout",
     "output_type": "stream",
     "text": [
      "[1, 5, 9, 2, 6, 10, 3, 7, 11, 4, 8, 12]\n",
      "[1, 2, 3, 4, 5, 6, 7, 8, 9, 10, 11, 12]\n"
     ]
    }
   ],
   "source": [
    "col = _2Dto1D([[1,2,3,4],[5,6,7,8],[9,10,11,12]],\"Col-major\")\n",
    "row = _2Dto1D([[1,2,3,4],[5,6,7,8],[9,10,11,12]])\n",
    "print(col)\n",
    "print(row)"
   ]
  },
  {
   "cell_type": "code",
   "execution_count": 4,
   "metadata": {},
   "outputs": [
    {
     "data": {
      "text/plain": [
       "[[1, 2, 3, 4], [5, 6, 7, 8], [9, 10, 11, 12]]"
      ]
     },
     "execution_count": 4,
     "metadata": {},
     "output_type": "execute_result"
    }
   ],
   "source": [
    "_1Dto2D(row,3,4)"
   ]
  },
  {
   "cell_type": "code",
   "execution_count": 5,
   "metadata": {},
   "outputs": [
    {
     "data": {
      "text/plain": [
       "[[1, 2, 3, 4], [5, 6, 7, 8], [9, 10, 11, 12]]"
      ]
     },
     "execution_count": 5,
     "metadata": {},
     "output_type": "execute_result"
    }
   ],
   "source": [
    "_1Dto2D(col,3,4,\"Col-major\")"
   ]
  },
  {
   "cell_type": "markdown",
   "metadata": {
    "pycharm": {
     "name": "#%% md\n"
    }
   },
   "source": [
    "## Session2"
   ]
  },
  {
   "cell_type": "markdown",
   "metadata": {
    "pycharm": {
     "name": "#%% md\n"
    }
   },
   "source": [
    "## Question 1\n",
    "\n",
    "the input is sequence of opening/closing parenthesis and brackets.your task is to find out if they are balanced or not.\n",
    "\n",
    "```python\n",
    "isBalanced(\"([])[]()\")             # True\n",
    "isBalanced(\"((([]([[]]()))))[()]\") # True\n",
    "isBalanced(\"([]]\")                 # False\n",
    "isBalanced(\"([)]\")                 # False\n",
    "isBalanced(\"][\")                   # False\n",
    "```"
   ]
  },
  {
   "cell_type": "code",
   "execution_count": 4,
   "metadata": {},
   "outputs": [
    {
     "name": "stdout",
     "output_type": "stream",
     "text": [
      "kAsrA is A good boy :)\n",
      "kasra-is-a-good-boy-:)\n",
      "ehsan is a good boy :)\n"
     ]
    }
   ],
   "source": [
    "a = \"kasra is a good boy :)\"\n",
    "print(a.replace(\"a\",\"A\"))\n",
    "print(a.replace(\" \",\"-\"))\n",
    "print(a.replace(\"kasra\",\"ehsan\"))"
   ]
  },
  {
   "cell_type": "code",
   "execution_count": 6,
   "metadata": {
    "pycharm": {
     "name": "#%%\n"
    }
   },
   "outputs": [
    {
     "name": "stdout",
     "output_type": "stream",
     "text": [
      "all answers was correct\n"
     ]
    }
   ],
   "source": [
    "def is_balanced_(exp:str):\n",
    "    pairs = [\"()\",\"[]\",\"{}\"]\n",
    "    while exp:\n",
    "        new_exp = exp\n",
    "        for i in pairs:\n",
    "            new_exp = new_exp.replace(i,\"\")\n",
    "            \n",
    "#         new_exp = new_exp.replace(\"()\",\"\")\n",
    "#         new_exp = new_exp.replace(\"[]\",\"\")\n",
    "#         new_exp = new_exp.replace(\"{}\",\"\")\n",
    "        if new_exp == exp:\n",
    "            return False\n",
    "        exp = new_exp\n",
    "    return True\n",
    "assert is_balanced_(\"([])[]()\")             == True\n",
    "assert is_balanced_(\"((([]([[]]()))))[()]\") == True\n",
    "assert is_balanced_(\"([]]\")                 == False\n",
    "assert is_balanced_(\"([)]\")                 == False\n",
    "assert is_balanced_(\"][\")                   == False\n",
    "print(\"all answers was correct\")"
   ]
  },
  {
   "cell_type": "code",
   "execution_count": 12,
   "metadata": {},
   "outputs": [
    {
     "data": {
      "text/plain": [
       "3"
      ]
     },
     "execution_count": 12,
     "metadata": {},
     "output_type": "execute_result"
    }
   ],
   "source": [
    "a = [10,23,\"kasra\",\"test\",100]\n",
    "a.index(\"test\")"
   ]
  },
  {
   "cell_type": "code",
   "execution_count": 14,
   "metadata": {
    "pycharm": {
     "name": "#%%\n"
    }
   },
   "outputs": [
    {
     "name": "stdout",
     "output_type": "stream",
     "text": [
      "all answers was correct\n"
     ]
    }
   ],
   "source": [
    "class Stack:\n",
    "    def __init__(self):\n",
    "        self.stack= []\n",
    "    def push(self,item):\n",
    "        self.stack.append(item)\n",
    "    def pop(self):\n",
    "        return self.stack.pop(-1)\n",
    "    def last(self):\n",
    "        return self.stack[-1]\n",
    "    def __len__(self):\n",
    "        return len(self.stack)\n",
    "    def __str__(self):\n",
    "        return str(self.stack)\n",
    "    def __repr__(self):\n",
    "        return \" - \".join([str(i) for i in self.stack])\n",
    "    def __bool__(self):\n",
    "        return self.stack != []\n",
    "\n",
    "def is_balanced(exp):\n",
    "    validator_stack = Stack()\n",
    "    opening = ['[','(',\"{\"]\n",
    "    closing = [']',')',\"}\"]\n",
    "    for i in exp:\n",
    "        if i in opening:\n",
    "            validator_stack.push(i)\n",
    "        elif i in closing:\n",
    "            if not validator_stack:\n",
    "                return False\n",
    "            if opening.index(validator_stack.last()) != closing.index(i):\n",
    "                return False\n",
    "            # here is another approach for same condition:\n",
    "            # if not(validator_stack.last() == \"(\" and i==\")\"):\n",
    "            #     return False\n",
    "            # if not(validator_stack.last() == \"[\" and i==\"]\"):\n",
    "            #     return False\n",
    "            # why first approach is better?\n",
    "            validator_stack.pop()\n",
    "\n",
    "#     if validator_stack:\n",
    "#         return False\n",
    "#     else:\n",
    "#         return True\n",
    "    return not validator_stack\n",
    "\n",
    "assert is_balanced(\"([])[]()\")             == True\n",
    "assert is_balanced(\"((([]([[]]()))))[()]\") == True\n",
    "assert is_balanced(\"([]]\")                 == False\n",
    "assert is_balanced(\"([)]\")                 == False\n",
    "assert is_balanced(\"][\")                   == False\n",
    "print(\"all answers was correct\")"
   ]
  },
  {
   "cell_type": "code",
   "execution_count": 14,
   "metadata": {
    "pycharm": {
     "name": "#%%\n"
    }
   },
   "outputs": [
    {
     "ename": "AssertionError",
     "evalue": "",
     "output_type": "error",
     "traceback": [
      "\u001b[0;31m---------------------------------------------------------------------------\u001b[0m",
      "\u001b[0;31mAssertionError\u001b[0m                            Traceback (most recent call last)",
      "\u001b[0;32m<ipython-input-14-309e785658b4>\u001b[0m in \u001b[0;36m<module>\u001b[0;34m\u001b[0m\n\u001b[0;32m----> 1\u001b[0;31m \u001b[0;32massert\u001b[0m \u001b[0;36m1\u001b[0m\u001b[0;34m+\u001b[0m\u001b[0;36m2\u001b[0m \u001b[0;34m==\u001b[0m \u001b[0;36m4\u001b[0m\u001b[0;34m\u001b[0m\u001b[0;34m\u001b[0m\u001b[0m\n\u001b[0m",
      "\u001b[0;31mAssertionError\u001b[0m: "
     ]
    }
   ],
   "source": [
    "assert 1+2 == 4"
   ]
  },
  {
   "cell_type": "code",
   "execution_count": null,
   "metadata": {},
   "outputs": [],
   "source": [
    "def is_hamming(n):\n",
    "    pass"
   ]
  }
 ],
 "metadata": {
  "kernelspec": {
   "display_name": "PyCharm (HW3)",
   "language": "python",
   "name": "pycharm-689d67d1"
  },
  "language_info": {
   "codemirror_mode": {
    "name": "ipython",
    "version": 3
   },
   "file_extension": ".py",
   "mimetype": "text/x-python",
   "name": "python",
   "nbconvert_exporter": "python",
   "pygments_lexer": "ipython3",
   "version": "3.8.5"
  }
 },
 "nbformat": 4,
 "nbformat_minor": 4
}
