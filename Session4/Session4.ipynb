{
 "cells": [
  {
   "cell_type": "markdown",
   "metadata": {
    "collapsed": true,
    "pycharm": {
     "name": "#%% md\n"
    }
   },
   "source": [
    "# Magic Methods\n",
    "\n",
    "Magic methods in Python are the special methods which add \"magic\" to your class. Magic methods are not meant to be invoked directly by you, but the invocation happens internally from the class on a certain action. For example, when you add two numbers using the + operator, internally, the `__add__()` method will be called."
   ]
  },
  {
   "cell_type": "markdown",
   "metadata": {
    "pycharm": {
     "name": "#%% md\n"
    }
   },
   "source": [
    "## `dir` function"
   ]
  },
  {
   "cell_type": "code",
   "execution_count": 2,
   "metadata": {
    "pycharm": {
     "name": "#%%\n"
    }
   },
   "outputs": [
    {
     "data": {
      "text/plain": [
       "['__abs__',\n",
       " '__add__',\n",
       " '__and__',\n",
       " '__bool__',\n",
       " '__ceil__',\n",
       " '__class__',\n",
       " '__delattr__',\n",
       " '__dir__',\n",
       " '__divmod__',\n",
       " '__doc__',\n",
       " '__eq__',\n",
       " '__float__',\n",
       " '__floor__',\n",
       " '__floordiv__',\n",
       " '__format__',\n",
       " '__ge__',\n",
       " '__getattribute__',\n",
       " '__getnewargs__',\n",
       " '__gt__',\n",
       " '__hash__',\n",
       " '__index__',\n",
       " '__init__',\n",
       " '__init_subclass__',\n",
       " '__int__',\n",
       " '__invert__',\n",
       " '__le__',\n",
       " '__lshift__',\n",
       " '__lt__',\n",
       " '__mod__',\n",
       " '__mul__',\n",
       " '__ne__',\n",
       " '__neg__',\n",
       " '__new__',\n",
       " '__or__',\n",
       " '__pos__',\n",
       " '__pow__',\n",
       " '__radd__',\n",
       " '__rand__',\n",
       " '__rdivmod__',\n",
       " '__reduce__',\n",
       " '__reduce_ex__',\n",
       " '__repr__',\n",
       " '__rfloordiv__',\n",
       " '__rlshift__',\n",
       " '__rmod__',\n",
       " '__rmul__',\n",
       " '__ror__',\n",
       " '__round__',\n",
       " '__rpow__',\n",
       " '__rrshift__',\n",
       " '__rshift__',\n",
       " '__rsub__',\n",
       " '__rtruediv__',\n",
       " '__rxor__',\n",
       " '__setattr__',\n",
       " '__sizeof__',\n",
       " '__str__',\n",
       " '__sub__',\n",
       " '__subclasshook__',\n",
       " '__truediv__',\n",
       " '__trunc__',\n",
       " '__xor__',\n",
       " 'as_integer_ratio',\n",
       " 'bit_length',\n",
       " 'conjugate',\n",
       " 'denominator',\n",
       " 'from_bytes',\n",
       " 'imag',\n",
       " 'numerator',\n",
       " 'real',\n",
       " 'to_bytes']"
      ]
     },
     "execution_count": 2,
     "metadata": {},
     "output_type": "execute_result"
    }
   ],
   "source": [
    "dir(4)"
   ]
  },
  {
   "cell_type": "code",
   "execution_count": 3,
   "metadata": {
    "pycharm": {
     "name": "#%%\n"
    }
   },
   "outputs": [
    {
     "name": "stdout",
     "output_type": "stream",
     "text": [
      "7\n",
      "7\n"
     ]
    }
   ],
   "source": [
    "# these two lines are same\n",
    "a = 4\n",
    "print(a+3)\n",
    "print(a.__add__(3))\n",
    "assert a+3 == a.__add__(3)"
   ]
  },
  {
   "cell_type": "markdown",
   "metadata": {
    "pycharm": {
     "name": "#%% md\n"
    }
   },
   "source": [
    "## An Example(Rational Numbers)\n",
    "\n",
    "for better illustration lets implement rational numbers"
   ]
  },
  {
   "cell_type": "code",
   "execution_count": 9,
   "metadata": {},
   "outputs": [
    {
     "data": {
      "text/plain": [
       "140346046759536"
      ]
     },
     "execution_count": 9,
     "metadata": {},
     "output_type": "execute_result"
    }
   ],
   "source": [
    "id((1,2,3,\"kasra\"))"
   ]
  },
  {
   "cell_type": "code",
   "execution_count": 3,
   "metadata": {
    "pycharm": {
     "name": "#%%\n"
    }
   },
   "outputs": [
    {
     "name": "stdout",
     "output_type": "stream",
     "text": [
      "check equality :True\n",
      "check addition :96/24\n",
      "check subtraction :0/24\n",
      "[8\\4]\n"
     ]
    }
   ],
   "source": [
    "class Rational:\n",
    "    def __init__(self,a,b):\n",
    "        self.a = int(a)\n",
    "        self.b = int(b)\n",
    "    def __add__(self, other):\n",
    "        return Rational(self.a*other.b+self.b*other.a, self.b*other.b)\n",
    "    def __sub__(self, other):\n",
    "        return self + -other\n",
    "    def __neg__(self):\n",
    "        return Rational(-self.a,self.b)\n",
    "    def __mul__(self, other):\n",
    "        if isinstance(other,int) or isinstance(other,float):\n",
    "            return Rational(other*self.a,self.b)\n",
    "        elif isinstance(other,Rational):\n",
    "            return Rational(self.a*other.b,self.b*other.b)\n",
    "        else:\n",
    "            raise ValueError(\"second operand must be either int,float or Rational instance\")\n",
    "    def __eq__(self, other)-> bool:\n",
    "        if self.a>other.a:\n",
    "            return self.a/other.a == self.b/other.b\n",
    "        return other.a/self.a == other.b/self.b\n",
    "    def __str__(self)-> str:\n",
    "        return f\"{self.a}/{self.b}\"\n",
    "    def __repr__(self)-> str:\n",
    "        return f\"{self.a}\\\\{self.b}\"\n",
    "    def __hash__(self)-> int:\n",
    "        return id(self.a/self.b)\n",
    "\n",
    "num1 = Rational(8,4)\n",
    "num2 = Rational(12,6)\n",
    "print(f\"check equality :{num1==num2}\")\n",
    "print(f\"check addition :{num1+num2}\")\n",
    "print(f\"check subtraction :{num1-num2}\")\n",
    "print([num1])"
   ]
  },
  {
   "cell_type": "markdown",
   "metadata": {
    "pycharm": {
     "name": "#%% md\n"
    }
   },
   "source": [
    "# Graph\n",
    "a graph is a structure amounting to a set of objects in which some pairs of the objects are in some sense \"related\". The objects correspond to mathematical abstractions called vertices (also called nodes or points) and each of the related pairs of vertices is called an edge (also called link or line).\n",
    "\n",
    "Each graph can be represented using two sets $(V,E)$ where $V$ is a set whose elements are called vertices (singular: vertex), and $E$ is a set of paired vertices, whose elements are called edges (sometimes links or lines)."
   ]
  },
  {
   "cell_type": "code",
   "execution_count": 11,
   "metadata": {},
   "outputs": [
    {
     "name": "stdout",
     "output_type": "stream",
     "text": [
      "()\n"
     ]
    }
   ],
   "source": [
    "def test(*args):\n",
    "    print(args)\n",
    "    \n",
    "test()"
   ]
  },
  {
   "cell_type": "code",
   "execution_count": 20,
   "metadata": {
    "pycharm": {
     "name": "#%%\n"
    }
   },
   "outputs": [
    {
     "data": {
      "text/plain": [
       "G(V:{'s', '1', 'k', 'r', 'a'},\n",
       "  E:{('r', '1'), ('1', 'k'), ('a', 's'), ('k', 'r'), ('s', 'r'), ('k', 'a')})"
      ]
     },
     "execution_count": 20,
     "metadata": {},
     "output_type": "execute_result"
    }
   ],
   "source": [
    "class Graph:\n",
    "    def __init__(self):\n",
    "        self.V = set()\n",
    "        self.E = set()\n",
    "    def add_node(self,node):\n",
    "        self.V.add(node)\n",
    "    def add_nodes(self,*args):\n",
    "        for i in args:\n",
    "            self.add_node(i)\n",
    "    def add_edge(self,node1,node2):\n",
    "        self.add_node(node1)\n",
    "        self.add_node(node2)\n",
    "        if not (node2,node1) in self.E:\n",
    "           self.E.add((node1,node2))\n",
    "#         self.E = {(\"a\",\"b\")}\n",
    "#         (\"b\",\"a\")\n",
    "    def is_connected(self,node1,node2):\n",
    "        return (node1,node2) in self.E or (node2,node1) in self.E\n",
    "    def __str__(self):\n",
    "        return f\"G(V:{self.V},\\n  E:{self.E})\"\n",
    "    def __repr__(self):\n",
    "        return str(self)\n",
    "G = Graph()\n",
    "G.add_nodes(\"k\",\"a\",\"s\",\"r\",\"a\",\"1\")\n",
    "for i,j in [\"ka\",\"as\",\"sr\",\"r1\",\"1k\",\"kr\"]:\n",
    "    G.add_edge(i,j)\n",
    "G"
   ]
  },
  {
   "cell_type": "markdown",
   "metadata": {
    "pycharm": {
     "name": "#%% md\n"
    }
   },
   "source": [
    "![G1](./G1.png)"
   ]
  },
  {
   "cell_type": "markdown",
   "metadata": {
    "pycharm": {
     "name": "#%% md\n"
    }
   },
   "source": [
    "# Tree\n",
    " a tree is an undirected graph in which any two vertices are connected by exactly one path, or equivalently a connected acyclic undirected graph.\n",
    "\n",
    "![G1_tree.png](G1_tree.png)\n",
    "\n",
    "![G1_tree_roted.png](G1_tree_roted.png)"
   ]
  },
  {
   "cell_type": "code",
   "execution_count": 23,
   "metadata": {
    "pycharm": {
     "name": "#%%\n"
    }
   },
   "outputs": [],
   "source": [
    "class Node:\n",
    "    def __init__(self,data):\n",
    "        self.child = []\n",
    "        self.data = data\n",
    "    def is_leaf(self):\n",
    "        return bool(self.child)\n",
    "    def add_child(self,node):\n",
    "        if not isinstance(node,Node):\n",
    "            node = Node(node)\n",
    "        self.child.append(node)\n",
    "    def add_childs(self,*arg):\n",
    "        for i in arg:\n",
    "            self.add_child(i)\n",
    "    def __getitem__(self, item):\n",
    "        return self.child[item]\n",
    "\n",
    "T = Node(\"k\")\n",
    "T.add_childs(\"r\",\"a\")\n",
    "T[0].add_child(\"1\")\n",
    "T[1].add_child(\"s\")"
   ]
  },
  {
   "cell_type": "markdown",
   "metadata": {
    "pycharm": {
     "name": "#%% md\n"
    }
   },
   "source": [
    "# Binary Tree\n",
    "\n",
    "Each node has exactly two child"
   ]
  },
  {
   "cell_type": "code",
   "execution_count": 13,
   "metadata": {
    "pycharm": {
     "name": "#%%\n"
    }
   },
   "outputs": [],
   "source": [
    "class Node:\n",
    "    def __init__(self,data,left=None,right=None):\n",
    "        self.left = left\n",
    "        self.right = right\n",
    "        self.data = data\n",
    "    def is_leaf(self):\n",
    "        return self.left is None and self.right is None\n",
    "\n",
    "exp1 = Node(data = lambda a,b:a*b)\n",
    "exp1.left = Node(3)\n",
    "exp1.right = Node(lambda a,b:a+b)\n",
    "exp1.right.left = Node(4)\n",
    "exp1.right.right = Node(5)\n",
    "# another good practice to keep track of parent node!\n",
    "# exp1 is 3*(4+5)"
   ]
  },
  {
   "cell_type": "markdown",
   "metadata": {
    "pycharm": {
     "name": "#%% md\n"
    }
   },
   "source": [
    "![exp1.png](exp1.png)\n",
    "\n",
    "let's look at some other examples\n",
    "![ui_tree_skip_level](ui_tree_skip_level.gif)\n",
    "\n",
    "![animals.jpg](animals.jpg)\n",
    "\n",
    "![Abstract-syntax-tree-of-code.png](Abstract-syntax-tree-of-code.png)\n",
    "```python\n",
    "while x<20:\n",
    "    x = x+2*y\n",
    "```\n",
    "\n",
    "![binary_search_tree.png](binary_search_tree.png)\n",
    "\n",
    "## Terminology\n",
    "\n",
    "- Root\n",
    "- Child\n",
    "- Leaf\n",
    "- Level\n",
    "- Height\n",
    "- Forest"
   ]
  },
  {
   "cell_type": "markdown",
   "metadata": {
    "pycharm": {
     "name": "#%% md\n"
    }
   },
   "source": [
    "## Calculate Height of the tree"
   ]
  },
  {
   "cell_type": "code",
   "execution_count": 27,
   "metadata": {
    "pycharm": {
     "name": "#%%\n"
    }
   },
   "outputs": [
    {
     "data": {
      "text/plain": [
       "3"
      ]
     },
     "execution_count": 27,
     "metadata": {},
     "output_type": "execute_result"
    }
   ],
   "source": [
    "def height(root: Node):\n",
    "    if root is None:\n",
    "        return 0\n",
    "    return 1+max(height(root.left),height(root.right))\n",
    "\n",
    "height(exp1)"
   ]
  },
  {
   "cell_type": "markdown",
   "metadata": {
    "pycharm": {
     "name": "#%% md\n"
    }
   },
   "source": [
    "# Questions\n",
    "\n",
    "- implement a function to find the number of nodes in the tree\n",
    "- implement a tree, in which it can store many words.\n",
    "![Trie](Trie.png)"
   ]
  },
  {
   "cell_type": "code",
   "execution_count": 29,
   "metadata": {
    "pycharm": {
     "name": "#%%\n"
    }
   },
   "outputs": [
    {
     "name": "stderr",
     "output_type": "stream",
     "text": [
      "[nltk_data] Downloading package brown to /home/kasra/nltk_data...\n",
      "[nltk_data]   Unzipping corpora/brown.zip.\n"
     ]
    },
    {
     "name": "stdout",
     "output_type": "stream",
     "text": [
      "['The', 'Fulton', 'County', 'Grand', 'Jury', 'said', ...]\n"
     ]
    }
   ],
   "source": [
    "import nltk\n",
    "nltk.download('brown')\n",
    "from nltk.corpus import brown\n",
    "print(brown.words())"
   ]
  },
  {
   "cell_type": "code",
   "execution_count": 31,
   "metadata": {
    "pycharm": {
     "name": "#%%\n"
    }
   },
   "outputs": [],
   "source": [
    "with open(\"words.txt\",'w') as f:\n",
    "    f.write(\"\\n\".join(brown.words()))"
   ]
  },
  {
   "cell_type": "code",
   "execution_count": null,
   "metadata": {
    "pycharm": {
     "name": "#%%\n"
    }
   },
   "outputs": [],
   "source": []
  }
 ],
 "metadata": {
  "kernelspec": {
   "display_name": "PyCharm (HW3)",
   "language": "python",
   "name": "pycharm-689d67d1"
  },
  "language_info": {
   "codemirror_mode": {
    "name": "ipython",
    "version": 3
   },
   "file_extension": ".py",
   "mimetype": "text/x-python",
   "name": "python",
   "nbconvert_exporter": "python",
   "pygments_lexer": "ipython3",
   "version": "3.8.5"
  }
 },
 "nbformat": 4,
 "nbformat_minor": 1
}
