{
 "cells": [
  {
   "cell_type": "markdown",
   "metadata": {
    "pycharm": {
     "name": "#%% md\n"
    }
   },
   "source": [
    "# import and packaging"
   ]
  },
  {
   "cell_type": "markdown",
   "metadata": {
    "pycharm": {
     "name": "#%% md\n"
    }
   },
   "source": [
    "## Simple imports"
   ]
  },
  {
   "cell_type": "code",
   "execution_count": 2,
   "metadata": {
    "pycharm": {
     "name": "#%%\n"
    }
   },
   "outputs": [
    {
     "data": {
      "text/plain": [
       "['__builtins__',\n",
       " '__cached__',\n",
       " '__doc__',\n",
       " '__file__',\n",
       " '__loader__',\n",
       " '__name__',\n",
       " '__package__',\n",
       " '__spec__',\n",
       " 'add']"
      ]
     },
     "execution_count": 2,
     "metadata": {},
     "output_type": "execute_result"
    }
   ],
   "source": [
    "import test_file\n",
    "dir(test_file)"
   ]
  },
  {
   "cell_type": "code",
   "execution_count": 2,
   "metadata": {
    "pycharm": {
     "name": "#%%\n"
    }
   },
   "outputs": [
    {
     "data": {
      "text/plain": [
       "7"
      ]
     },
     "execution_count": 2,
     "metadata": {},
     "output_type": "execute_result"
    }
   ],
   "source": [
    "test_file.add(2,5)"
   ]
  },
  {
   "cell_type": "markdown",
   "metadata": {
    "pycharm": {
     "name": "#%% md\n"
    }
   },
   "source": [
    "### `__name__` variable"
   ]
  },
  {
   "cell_type": "code",
   "execution_count": 1,
   "metadata": {
    "pycharm": {
     "name": "#%%\n"
    }
   },
   "outputs": [
    {
     "name": "stdout",
     "output_type": "stream",
     "text": [
      "mean(4,5,3 ,5,6,7,8,9)=5.875\n",
      "mean(1,4,6,82,5,7,7,2,5,6,8)=12.090909090909092\n",
      "test_file_\n",
      "(6+10)/2 = 8.0\n"
     ]
    }
   ],
   "source": [
    "from test_file_ import mean\n",
    "print(\"(6+10)/2 =\",mean(10,6))"
   ]
  },
  {
   "cell_type": "markdown",
   "metadata": {
    "pycharm": {
     "name": "#%% md\n"
    }
   },
   "source": [
    "now lets import again"
   ]
  },
  {
   "cell_type": "code",
   "execution_count": 3,
   "metadata": {
    "pycharm": {
     "name": "#%%\n"
    }
   },
   "outputs": [
    {
     "name": "stdout",
     "output_type": "stream",
     "text": [
      "6+10 = 8.0\n"
     ]
    }
   ],
   "source": [
    "import test_file_ as new_test_file_\n",
    "print(\"6+10 =\",new_test_file_.mean(10,6))"
   ]
  },
  {
   "cell_type": "markdown",
   "metadata": {
    "pycharm": {
     "name": "#%% md\n"
    }
   },
   "source": [
    "## Packaging"
   ]
  },
  {
   "cell_type": "code",
   "execution_count": 1,
   "metadata": {
    "pycharm": {
     "name": "#%%\n"
    }
   },
   "outputs": [
    {
     "data": {
      "text/plain": [
       "['Graph',\n",
       " 'LinkedList',\n",
       " 'Node',\n",
       " 'Stack',\n",
       " 'Stack_and_queue',\n",
       " '__builtins__',\n",
       " '__cached__',\n",
       " '__doc__',\n",
       " '__file__',\n",
       " '__loader__',\n",
       " '__name__',\n",
       " '__package__',\n",
       " '__path__',\n",
       " '__spec__']"
      ]
     },
     "execution_count": 1,
     "metadata": {},
     "output_type": "execute_result"
    }
   ],
   "source": [
    "import data_structures\n",
    "dir(data_structures)"
   ]
  },
  {
   "cell_type": "code",
   "execution_count": 4,
   "metadata": {
    "pycharm": {
     "name": "#%%\n"
    }
   },
   "outputs": [
    {
     "name": "stdout",
     "output_type": "stream",
     "text": [
      "Node(data=Kasra) --> Node(data=1) --> Node(data=2) --> Node(data=3)\n"
     ]
    }
   ],
   "source": [
    "ll = data_structures.LinkedList()\n",
    "ll.append(\"Kasra\")\n",
    "ll.append(1)\n",
    "ll.append(2)\n",
    "ll.append(3)\n",
    "print(ll)"
   ]
  },
  {
   "cell_type": "code",
   "execution_count": 2,
   "metadata": {
    "pycharm": {
     "name": "#%%\n"
    }
   },
   "outputs": [
    {
     "name": "stdout",
     "output_type": "stream",
     "text": [
      "type(data_structures.LinkedList)=<class 'type'>\n",
      "type(data_structures.Stack)=<class 'type'>\n",
      "type(data_structures.Stack_and_queue)=<class 'module'>\n"
     ]
    }
   ],
   "source": [
    "print(f\"{type(data_structures.LinkedList)=}\")\n",
    "print(f\"{type(data_structures.Stack)=}\")\n",
    "print(f\"{type(data_structures.Stack_and_queue)=}\")"
   ]
  },
  {
   "cell_type": "code",
   "execution_count": 3,
   "metadata": {
    "pycharm": {
     "name": "#%%\n"
    }
   },
   "outputs": [
    {
     "name": "stdout",
     "output_type": "stream",
     "text": [
      "True\n"
     ]
    }
   ],
   "source": [
    "print(data_structures.Stack_and_queue.LinkedList is data_structures.LinkedList)"
   ]
  },
  {
   "cell_type": "code",
   "execution_count": 2,
   "metadata": {
    "pycharm": {
     "name": "#%%\n"
    }
   },
   "outputs": [
    {
     "data": {
      "text/plain": [
       "G(V:{'a', 's', '1', 'k', 'r'},\n",
       "  E:{('s', 'r'), ('a', 's'), ('r', '1'), ('k', 'a'), ('1', 'k'), ('k', 'r')})"
      ]
     },
     "execution_count": 2,
     "metadata": {},
     "output_type": "execute_result"
    }
   ],
   "source": [
    "G = data_structures.Graph()\n",
    "G.add_nodes(\"k\",\"a\",\"s\",\"r\",\"a\",\"1\")\n",
    "for i,j in [\"ka\",\"as\",\"sr\",\"r1\",\"1k\",\"kr\"]:\n",
    "    G.add_edge(i,j)\n",
    "G"
   ]
  },
  {
   "cell_type": "markdown",
   "metadata": {
    "pycharm": {
     "name": "#%% md\n"
    }
   },
   "source": [
    "# Question 1\n",
    "- Complete this module in which each file has one class"
   ]
  },
  {
   "cell_type": "markdown",
   "metadata": {
    "pycharm": {
     "name": "#%% md\n"
    }
   },
   "source": [
    "# Infix, Prefix and Postfix"
   ]
  },
  {
   "cell_type": "markdown",
   "metadata": {
    "pycharm": {
     "name": "#%% md\n"
    }
   },
   "source": [
    "## Infix notation\n",
    "Operators are written in-between their operands.\n",
    "This is the usual way we write expressions.\n",
    "An expression such as $A * ( B + C ) / D$ is usually taken to mean something like:\n",
    "\"First add B and C together, then multiply the result by A, then divide by D to give the final answer.\"\n",
    "Infix notation needs extra information to make the order of evaluation of the operators clear:\n",
    "rules built into the language about operator precedence and associativity, and brackets ( ) to allow users to override these rules."
   ]
  },
  {
   "cell_type": "markdown",
   "metadata": {
    "pycharm": {
     "name": "#%% md\n"
    }
   },
   "source": [
    "## Postfix notation (also known as \"Reverse Polish notation\")\n",
    "Operators are written after their operands. The infix expression given above is equivalent to $A B C + * D /$\n",
    "The order of evaluation of operators is always left-to-right, and brackets cannot be used to change this order.\n",
    "Because the \"+\" is to the left of the \"*\" in the example above, the addition must be performed before the multiplication.\n",
    "Operators act on values immediately to the left of them.\n",
    "For example, the \"+\" above uses the \"B\" and \"C\". We can add (totally unnecessary) brackets to make this explicit:\n",
    "$( (A (B C +) *) D /)$\n",
    "\n",
    "Thus, the \"*\" uses the two values immediately preceding: \"A\", and the result of the addition.\n",
    "Similarly, the \"/\" uses the result of the multiplication and the \"D\"."
   ]
  },
  {
   "cell_type": "code",
   "execution_count": 3,
   "metadata": {},
   "outputs": [
    {
     "data": {
      "text/plain": [
       "43"
      ]
     },
     "execution_count": 3,
     "metadata": {},
     "output_type": "execute_result"
    }
   ],
   "source": [
    "3+5*8"
   ]
  },
  {
   "cell_type": "markdown",
   "metadata": {},
   "source": [
    "## Prefix notation (also known as \"Polish notation\"):\n",
    "Operators are written before their operands. The expressions given above are equivalent to $/ * A + B C D$\n",
    "As for Postfix, operators are evaluated left-to-right and brackets are superfluous.\n",
    "Operators act on the two the nearest values on the right.\n",
    "I have again added (totally unnecessary) brackets to make this clear:\n",
    "$(/ (* A (+ B C) ) D)$\n",
    "Although Prefix \"operators are evaluated left-to-right\", they use values to their right,\n",
    "and if these values themselves involve computations then this changes the order that the operators have to be evaluated in.\n",
    "In the example above, although the division is the first operator on the left, it acts on the result of the multiplication,\n",
    "and so the multiplication has to happen before the division (and similarly the addition has to happen before the multiplication).\n",
    "Because Postfix operators use values to their left, any values involving computations will already have been calculated\n",
    "as we go left-to-right, and so the order of evaluation of the operators is not disrupted in the same way as in Prefix expressions."
   ]
  },
  {
   "cell_type": "markdown",
   "metadata": {
    "pycharm": {
     "name": "#%% md\n"
    }
   },
   "source": [
    "## Excersise\n",
    "find the postfix of these terms:\n",
    "- $(A + B) * C$\n",
    "$$\n",
    "(AB+) * C\n",
    "$$\n",
    "$$\n",
    "(AB+)C*\n",
    "$$\n",
    "$$\n",
    "AB+C*\n",
    " $$\n",
    "- $A + B + C + D$\n",
    "$$\n",
    "(AB+) + C + D\n",
    "$$\n",
    "$$\n",
    "((AB+)C+) + D\n",
    "$$\n",
    "$$\n",
    "AB+C+D+\n",
    "$$\n",
    "why these are same?:\n",
    "$$\n",
    "ABCD+++\n",
    "$$\n",
    "- $A * B + C * D$\n",
    "$$\n",
    "(AB*) + C * D\n",
    "$$\n",
    "$$\n",
    "(AB*) + (CD*)\n",
    "$$\n",
    "$$\n",
    "(AB*)(CD*)+\n",
    "$$\n",
    "$$\n",
    "AB*CD*+\n",
    "$$\n",
    "- $A * B + C / D$\n",
    "$$\n",
    "(AB*) + C / D\n",
    "$$\n",
    "$$\n",
    "(AB*) + (CD/)\n",
    "$$\n",
    "$$\n",
    "AB*CD/+\n",
    "$$\n",
    "- $A * (B + C) / D$\n",
    "- $A * (B + C / D)$\n",
    "- $A + B * C + D$\n",
    "- $(A + B) * (C + D)$"
   ]
  },
  {
   "cell_type": "markdown",
   "metadata": {
    "pycharm": {
     "name": "#%% md\n"
    }
   },
   "source": [
    "# implementations"
   ]
  },
  {
   "cell_type": "code",
   "execution_count": null,
   "metadata": {
    "pycharm": {
     "name": "#%%\n"
    }
   },
   "outputs": [],
   "source": [
    "def infix_postfix(infix_expr):\n",
    "    prec = {\"*\" : 3,\n",
    "            \"/\" : 3,\n",
    "            \"+\" : 2,\n",
    "            \"-\" : 2,\n",
    "            \"(\" : 1}\n",
    "    opStack = []\n",
    "    postfixList = []\n",
    "    tokenList = infix_expr.split()\n",
    "    alphabet = \"ABCDEFGHIJKLMNOPQRSTUVWXYZ\"\n",
    "    numbers = \"0123456789\"\n",
    "\n",
    "    for token in tokenList:\n",
    "        if token in alphabet or token in numbers:\n",
    "            postfixList.append(token)\n",
    "        elif token == '(':\n",
    "            opStack.append(token)\n",
    "        elif token == ')':\n",
    "            topToken = opStack.pop()\n",
    "            while topToken != '(':\n",
    "                postfixList.append(topToken)\n",
    "                topToken = opStack.pop()\n",
    "        else:\n",
    "            while opStack and prec[opStack[-1]] >= prec[token]:\n",
    "                  postfixList.append(opStack.pop())\n",
    "            opStack.append(token)\n",
    "\n",
    "    while opStack:\n",
    "        postfixList.append(opStack.pop())\n",
    "    return \" \".join(postfixList)\n",
    "infix_postfix(\"A * B + C * D\")"
   ]
  },
  {
   "cell_type": "code",
   "execution_count": null,
   "metadata": {
    "pycharm": {
     "name": "#%%\n"
    }
   },
   "outputs": [],
   "source": [
    "def evaluate_postfix(exp):\n",
    "    operators = {\"+\":lambda a,b:a+b,\n",
    "                 \"-\":lambda a,b:b-a,\n",
    "                 \"*\":lambda a,b:a*b,\n",
    "                 \"/\":lambda a,b:b/a}\n",
    "    numbers = \"123456789\"\n",
    "    stack = []\n",
    "    exp = exp.split()\n",
    "    for i in exp:\n",
    "        if i in numbers:\n",
    "            stack.append(int(i))\n",
    "        elif i in operators:\n",
    "            stack.append(operators[i](stack.pop(-1),stack.pop(-1)))\n",
    "\n",
    "    assert len(stack) == 1\n",
    "    return stack[0]\n",
    "\n",
    "evaluate_postfix(\"2 3 * 8 4 / +\")"
   ]
  },
  {
   "cell_type": "code",
   "execution_count": null,
   "metadata": {
    "pycharm": {
     "name": "#%%\n"
    }
   },
   "outputs": [],
   "source": [
    "# Question 1\n",
    "- Complete this module in which each file has one class\n",
    "\n",
    "# Question 2\n",
    "- rewrite both functions in a way that thay are not sensitive "
   ]
  }
 ],
 "metadata": {
  "kernelspec": {
   "display_name": "PyCharm (HW3)",
   "language": "python",
   "name": "pycharm-689d67d1"
  },
  "language_info": {
   "codemirror_mode": {
    "name": "ipython",
    "version": 3
   },
   "file_extension": ".py",
   "mimetype": "text/x-python",
   "name": "python",
   "nbconvert_exporter": "python",
   "pygments_lexer": "ipython3",
   "version": "3.8.5"
  }
 },
 "nbformat": 4,
 "nbformat_minor": 1
}