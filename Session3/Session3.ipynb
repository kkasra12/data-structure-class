{
 "cells": [
  {
   "cell_type": "markdown",
   "metadata": {},
   "source": [
    "# Queue\n",
    "\n",
    "Stacks and queues are dynamic sets in which the element removed from the set\n",
    "by the D ELETE operation is prespecified. In a stack, the element deleted from\n",
    "the set is the one most recently inserted: the stack implements a last-in, first-out,\n",
    "or LIFO, policy. Similarly, in a queue, the element deleted is always the one that\n",
    "has been in the set for the longest time: the queue implements a first-in, first-out,\n",
    "or FIFO, policy. There are several efficient ways to implement stacks and queues\n",
    "on a computer. In this section we show how to use a simple array to implement\n",
    "each."
   ]
  },
  {
   "cell_type": "markdown",
   "metadata": {},
   "source": [
    "## Very Simple Implementation"
   ]
  },
  {
   "cell_type": "code",
   "execution_count": 7,
   "metadata": {},
   "outputs": [
    {
     "name": "stdout",
     "output_type": "stream",
     "text": [
      "1\n",
      "2\n",
      "kasra\n"
     ]
    }
   ],
   "source": [
    "class Stack:\n",
    "    def __init__(self):\n",
    "        self.stack= []\n",
    "        \n",
    "    def push(self,item):\n",
    "        self.stack.append(item)\n",
    "        \n",
    "    def pop(self):\n",
    "        return self.stack.pop(-1)\n",
    "    \n",
    "    def last(self):\n",
    "        return self.stack[-1]\n",
    "    \n",
    "    def __len__(self):\n",
    "        return len(self.stack)\n",
    "        \n",
    "    def __str__(self):\n",
    "        return str(self.stack)\n",
    "    \n",
    "    def __repr__(self):\n",
    "        return \" - \".join([str(i) for i in self.stack])\n",
    "    \n",
    "class Queue(Stack):\n",
    "    def pop(self):\n",
    "        return self.stack.pop(0)\n",
    "    \n",
    "    def last(self):\n",
    "        return self.stack[0]\n",
    "    \n",
    "myQueue = Queue()\n",
    "myQueue.push(1)\n",
    "myQueue.push(2)\n",
    "myQueue.push(\"kasra\")\n",
    "print(myQueue.pop())\n",
    "print(myQueue.pop())\n",
    "print(myQueue.pop())\n"
   ]
  },
  {
   "cell_type": "markdown",
   "metadata": {},
   "source": [
    "this implementation is not good, lets keep track of head and tails\n",
    "\n",
    "![ArrayBasesQueue](ArrayBasesQueue.png)"
   ]
  },
  {
   "cell_type": "code",
   "execution_count": null,
   "metadata": {},
   "outputs": [],
   "source": [
    "# IMPLEMENT THIS :D"
   ]
  },
  {
   "cell_type": "markdown",
   "metadata": {},
   "source": [
    "## LinkList based Implimentation"
   ]
  },
  {
   "cell_type": "code",
   "execution_count": 6,
   "metadata": {},
   "outputs": [
    {
     "name": "stdout",
     "output_type": "stream",
     "text": [
      "1\n",
      "2\n",
      "kasra\n"
     ]
    }
   ],
   "source": [
    "class Node:\n",
    "    def __init__(self,data,nextNode=None):\n",
    "        self.data = data\n",
    "        self.next = nextNode\n",
    "    def __str__(self):\n",
    "        return f\"{self.data}\"\n",
    "    def __repr__(self):\n",
    "        return str(self)\n",
    "    \n",
    "class Queue:\n",
    "    def __init__(self):\n",
    "        self.head = None # enqueue\n",
    "        self.tail = None # dequeue\n",
    "        self.len = 0\n",
    "    def __len__(self):\n",
    "        return self.len\n",
    "    def enqueue(self,x):\n",
    "        if self.len == 0:\n",
    "            self.head = Node(x)\n",
    "            self.tail = self.head\n",
    "            self.len = 1\n",
    "            return\n",
    "        self.head.next = Node(x)\n",
    "        self.head = self.head.next\n",
    "        \n",
    "    def dequeue(self):\n",
    "        if self.len == 0:\n",
    "            return\n",
    "        resp = self.tail\n",
    "        self.tail = self.tail.next\n",
    "        self.len -= 1\n",
    "        return resp\n",
    "    \n",
    "myQueue = Queue()\n",
    "myQueue.enqueue(1)\n",
    "myQueue.enqueue(2)\n",
    "myQueue.enqueue(\"kasra\")\n",
    "print(myQueue.dequeue())\n",
    "print(myQueue.dequeue())\n",
    "print(myQueue.dequeue())"
   ]
  },
  {
   "cell_type": "markdown",
   "metadata": {},
   "source": [
    "# Questions\n"
   ]
  },
  {
   "cell_type": "markdown",
   "metadata": {},
   "source": [
    "## Question1\n",
    "\n",
    "implement a Queue class using arrays in which the order of `enqueue` and `dequeue` is $\\mathcal{O}(1)$"
   ]
  },
  {
   "cell_type": "markdown",
   "metadata": {},
   "source": [
    "## Question 2\n",
    "\n",
    "Your task is to construct a tower in $N$ days by following these conditions:\n",
    "Every day you are provided with one disk of distinct size.\n",
    "\n",
    "- The disk with larger sizes should be placed at the bottom of the tower.\n",
    "- The disk with smaller sizes should be placed at the top of the tower.\n",
    "\n",
    "The order in which tower must be constructed is as follows:\n",
    "> You cannot put a new disk on the top of the tower until all the larger disks that are given to you get placed.\n",
    "\n",
    "you have this limitations:\n",
    "- each day you are given single disk\n",
    "- each day you can construct only one dist\n",
    "\n",
    "find the $N$"
   ]
  },
  {
   "cell_type": "code",
   "execution_count": 8,
   "metadata": {},
   "outputs": [],
   "source": [
    "inputDisks = [1,2,4,5,3]"
   ]
  },
  {
   "cell_type": "markdown",
   "metadata": {},
   "source": [
    "Day1:\n",
    "tower = 0\n",
    "storage = [1]\n",
    "\n",
    "Day2:\n",
    "tower = 0\n",
    "storage = [1,2]\n",
    "\n",
    "Day3:\n",
    "tower = 0\n",
    "storage = [1,2,4]\n",
    "\n",
    "Day4:\n",
    "tower = 5\n",
    "storage = [1,2,4]\n",
    "\n",
    "Day5:\n",
    "tower = 54\n",
    "storage = [1,2,3]\n",
    "\n",
    "Day6:\n",
    "tower = 543\n",
    "storage = [1,2]\n",
    "\n",
    "Day7:\n",
    "tower = 5432\n",
    "storage = [1]\n",
    "\n",
    "Day8:\n",
    "tower = 54321\n",
    "storage = []\n",
    "\n",
    "Output=8"
   ]
  },
  {
   "cell_type": "code",
   "execution_count": 1,
   "metadata": {},
   "outputs": [
    {
     "data": {
      "text/plain": [
       "0"
      ]
     },
     "execution_count": 1,
     "metadata": {},
     "output_type": "execute_result"
    }
   ],
   "source": [
    "def tower_constructor(disk_sequence):\n",
    "    day = 0\n",
    "    storage = []\n",
    "    max_disk = max(disk_sequence)\n",
    "    while disk_sequence:\n",
    "        current_disk = disk_sequence.pop(0)\n",
    "        pass\n",
    "    return day\n",
    "\n",
    "tower_constructor([1,2,4,5,3])"
   ]
  },
  {
   "cell_type": "code",
   "execution_count": null,
   "metadata": {},
   "outputs": [],
   "source": []
  }
 ],
 "metadata": {
  "kernelspec": {
   "display_name": "PyCharm (HW3)",
   "language": "python",
   "name": "pycharm-689d67d1"
  },
  "language_info": {
   "codemirror_mode": {
    "name": "ipython",
    "version": 3
   },
   "file_extension": ".py",
   "mimetype": "text/x-python",
   "name": "python",
   "nbconvert_exporter": "python",
   "pygments_lexer": "ipython3",
   "version": "3.8.5"
  }
 },
 "nbformat": 4,
 "nbformat_minor": 4
}