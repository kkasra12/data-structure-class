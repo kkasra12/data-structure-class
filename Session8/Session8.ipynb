{
 "cells": [
  {
   "cell_type": "code",
   "execution_count": 3,
   "metadata": {
    "pycharm": {
     "name": "#%%\n"
    }
   },
   "outputs": [],
   "source": [
    "class Node:\n",
    "    def __init__(self,data,left=None,right=None):\n",
    "        self.left = left\n",
    "        self.right = right\n",
    "        self.data = data\n",
    "    \n",
    "    @property\n",
    "    def is_leaf(self):\n",
    "        return self.left is None and self.right is None\n",
    "    \n",
    "    def __str__(self):\n",
    "        return \"NODE: \"+str(self.data)\n",
    "    \n",
    "    def __repr__(self):\n",
    "        return str(self)\n",
    "\n",
    "class BST(Node):\n",
    "    def __init__(self, data, left=None, right=None):\n",
    "        super().__init__(data, left, right)\n",
    "\n",
    "    def insert(self,bst_node,height=0):\n",
    "        if not isinstance(bst_node,BST):\n",
    "            bst_node = BST(bst_node)\n",
    "        if bst_node.data > self.data:\n",
    "            if self.right is None:\n",
    "                self.right = bst_node\n",
    "                return height+1\n",
    "            return self.right.insert(bst_node,height=height+1)\n",
    "        if bst_node.data < self.data:\n",
    "            if self.left is None:\n",
    "                self.left = bst_node\n",
    "                return height+1\n",
    "            return self.left.insert(bst_node,height=height+1)\n",
    "\n",
    "    def search(self,key):\n",
    "        if self.data == key: return True\n",
    "        if key > self.data:\n",
    "            if self.right is None:\n",
    "                return False\n",
    "            return self.right.search(key)\n",
    "        if key < self.data:\n",
    "            if self.left is None:\n",
    "                return False\n",
    "            return self.left.search(key)"
   ]
  },
  {
   "cell_type": "code",
   "execution_count": 4,
   "metadata": {
    "pycharm": {
     "name": "#%%\n"
    }
   },
   "outputs": [
    {
     "name": "stdout",
     "output_type": "stream",
     "text": [
      "Node 3 goes in height 1\n",
      "Node 10 goes in height 1\n",
      "Node 1 goes in height 2\n",
      "Node 6 goes in height 2\n",
      "Node 14 goes in height 2\n",
      "Node 4 goes in height 3\n",
      "Node 7 goes in height 3\n",
      "Node 13 goes in height 3\n",
      "\n",
      "\n",
      "\n",
      "\n",
      "\n"
     ]
    }
   ],
   "source": [
    "from os import system\n",
    "from sys import platform\n",
    "\n",
    "def toTikz(tree):\n",
    "    return (r\"\\documentclass[convert]{standalone}\" \"\\n\"\n",
    "            r\"\\usepackage{tree-dvips}\" \"\\n\"\n",
    "            r\"\\usepackage{qtree}\" \"\\n\"\n",
    "            r\"\\begin{document}\" \"\\n\"\n",
    "            r\"\\Tree\"\n",
    "            f\"{_toTikz(tree)}\\n\"\n",
    "            r\"\\end{document}\")\n",
    "def _toTikz(node: Node):\n",
    "    if node is None:\n",
    "        return '-'\n",
    "    if node.is_leaf:\n",
    "        return str(node.data)\n",
    "    return f\"[.{node.data} {_toTikz(node.left)} {_toTikz(node.right)} ]\"\n",
    "\n",
    "def createPdf(node,filename,verbose = False,image_extension='jpeg',resolution=500):\n",
    "    if platform!= \"linux\":\n",
    "        raise OSError(\"this function is not supported in this machine :(\")\n",
    "    if image_extension not in ['jpeg','png','tiff','']:\n",
    "        raise ValueError(f\"the image_extension must be 'jpeg','png','tiff' not {image_extension} \"\n",
    "                         f\"or empty string if u dont want to image version of output\")\n",
    "    with open(f\"{filename}.tex\",'w') as f:\n",
    "        tikz = toTikz(node)\n",
    "        f.write(tikz)\n",
    "    system(\"ls qtree.sty || wget https://www.ling.upenn.edu/advice/latex/qtree/qtree.sty\")\n",
    "    system(\"ls tree-dvips.sty || wget http://ctan.math.washington.edu/tex-archive/macros/latex209/contrib/trees/tree-dvips/tree-dvips.sty\")\n",
    "    system(f\"pdflatex {filename}.tex\")\n",
    "    if verbose:\n",
    "        print(f\"output is in {filename}.pdf\\n\")\n",
    "        print(tikz)\n",
    "    system(f\"xdg-open {filename}.pdf\")\n",
    "    if not image_extension=='':\n",
    "        system(f\"pdftoppm -singlefile -{image_extension} -r {resolution}  {filename}.pdf {filename}\")\n",
    "    t = [\"aux\", \"bbl\", \"blg\", \"idx\", \"ind\", \"lof\",\n",
    "         \"lot\", \"out\", \"toc\", \"acn\", \"acr\", \"alg\",\n",
    "         \"glg\", \"glo\", \"gls\", \"ist\", \"fls\", \"log\",\n",
    "         \"fdb_latexmk\"]\n",
    "    for i in t:\n",
    "        try:\n",
    "            system(f\"rm *.{i}\")\n",
    "        except OSError as e:\n",
    "            print(e,i)\n",
    "t = BST(8)\n",
    "for i in [3,10,1,6,14,4,7,13]:\n",
    "    print(f\"Node {i} goes in height {t.insert(BST(i))}\")\n",
    "print(\"\\n\"*4)\n",
    "createPdf(t,'testFile')"
   ]
  },
  {
   "cell_type": "markdown",
   "metadata": {
    "pycharm": {
     "name": "#%% md\n"
    }
   },
   "source": [
    "# Sorting an array using BST\n",
    "simply write the in-order form of the tree"
   ]
  },
  {
   "cell_type": "code",
   "execution_count": 5,
   "metadata": {
    "pycharm": {
     "name": "#%%\n"
    }
   },
   "outputs": [
    {
     "data": {
      "text/plain": [
       "[1, 3, 4, 6, 7, 8, 10, 13, 14]"
      ]
     },
     "execution_count": 5,
     "metadata": {},
     "output_type": "execute_result"
    }
   ],
   "source": [
    "def inOrder(root):\n",
    "    stack=[]\n",
    "    while 1:\n",
    "        if root is not None :\n",
    "            stack.append(root)\n",
    "            root=root.left\n",
    "        else:\n",
    "            if len(stack)==0:\n",
    "                break\n",
    "            else:\n",
    "                root=stack.pop()\n",
    "                yield  root.data\n",
    "                root=root.right\n",
    "list(inOrder(t))"
   ]
  },
  {
   "cell_type": "markdown",
   "metadata": {},
   "source": [
    "# BST trees\n",
    "is the structure of tree important for number of entered values?"
   ]
  },
  {
   "cell_type": "code",
   "execution_count": null,
   "metadata": {
    "pycharm": {
     "name": "#%%\n"
    }
   },
   "outputs": [],
   "source": [
    "def create_BST(lst,show=True,filename='testFile'):\n",
    "    t = BST(lst[0])\n",
    "    for i in lst[1:]:\n",
    "        t.insert(i)\n",
    "    if show:\n",
    "        createPdf(t,filename)\n",
    "    return t"
   ]
  },
  {
   "cell_type": "code",
   "execution_count": null,
   "metadata": {
    "pycharm": {
     "name": "#%%\n"
    }
   },
   "outputs": [],
   "source": [
    "t1 = create_BST([1,2,3,4,5,6,7],filename='tree1')"
   ]
  },
  {
   "cell_type": "markdown",
   "metadata": {
    "pycharm": {
     "name": "#%% md\n"
    }
   },
   "source": [
    "<img src=\"tree1.jpg\">"
   ]
  },
  {
   "cell_type": "code",
   "execution_count": null,
   "metadata": {
    "pycharm": {
     "name": "#%%\n"
    }
   },
   "outputs": [],
   "source": [
    "create_BST([7,6,5,4,3,2,1],filename='tree2')"
   ]
  },
  {
   "cell_type": "markdown",
   "metadata": {
    "pycharm": {
     "name": "#%% md\n"
    }
   },
   "source": [
    "<img src=\"tree2.jpg\">"
   ]
  },
  {
   "cell_type": "markdown",
   "metadata": {
    "pycharm": {
     "name": "#%% md\n"
    }
   },
   "source": [
    "- Why these trees are not good?\n",
    "- What is a good tree?"
   ]
  },
  {
   "cell_type": "code",
   "execution_count": null,
   "metadata": {
    "pycharm": {
     "name": "#%%\n"
    }
   },
   "outputs": [],
   "source": [
    "create_BST([4,2,1,3,6,5,7],filename='tree3')"
   ]
  },
  {
   "cell_type": "markdown",
   "metadata": {
    "pycharm": {
     "name": "#%% md\n"
    }
   },
   "source": [
    "<img src=\"tree3.jpg\">"
   ]
  },
  {
   "cell_type": "markdown",
   "metadata": {
    "pycharm": {
     "name": "#%% md\n"
    }
   },
   "source": [
    "# Balance Factor\n",
    "what is the search price in BST?\n",
    "$$\n",
    "BalanceFactor = |height(left\\_subtree) − height(right\\_subtree)|\n",
    "$$"
   ]
  },
  {
   "cell_type": "markdown",
   "metadata": {
    "pycharm": {
     "name": "#%% md\n"
    }
   },
   "source": [
    "# AVL Tree\n",
    "is a BST in which we have:\n",
    "$$\n",
    "BalanceFactor(i) \\leq 1 \\fore i \\in tree\n",
    "$$\n",
    "to balance a tree we can rotate a tree using one of these methods:\n",
    "- Left rotation\n",
    "- Right rotation\n",
    "- Left-Right rotation\n",
    "- Right-Left rotation"
   ]
  },
  {
   "cell_type": "markdown",
   "metadata": {
    "pycharm": {
     "name": "#%% md\n"
    }
   },
   "source": [
    "## Left Rotation\n",
    "<img src='rotation_imgs/avl_left_rotation.jpg'>"
   ]
  },
  {
   "cell_type": "markdown",
   "metadata": {
    "pycharm": {
     "name": "#%% md\n"
    }
   },
   "source": [
    "## Right Rotation\n",
    "<img src='rotation_imgs/avl_right_rotation.jpg'>"
   ]
  },
  {
   "cell_type": "markdown",
   "metadata": {
    "pycharm": {
     "name": "#%%\n"
    }
   },
   "source": [
    "# Left-Right Rotation\n",
    "<img src=\"rotation_imgs/right_subtree_of_left_subtree.jpg\">\n",
    "<img src=\"rotation_imgs/subtree_left_rotation.jpg\">\n",
    "<img src=\"rotation_imgs/left_unbalanced_tree.jpg\">"
   ]
  },
  {
   "attachments": {
    "image-2.png": {
     "image/png": "[encoded data removed]"
    },
    "image-3.png": {
     "image/png": "[encoded data removed]"
    },
    "image-4.png": {
     "image/png": "[encoded data removed]"
    }
   },
   "cell_type": "markdown",
   "metadata": {},
   "source": [
    "# Right-Left Rotation\n",
    "![image-2.png](attachment:image-2.png)\n",
    "![image-3.png](attachment:image-3.png)\n",
    "![image-4.png](attachment:image-4.png)"
   ]
  }
 ],
 "metadata": {
  "kernelspec": {
   "display_name": "PyCharm (HW3)",
   "language": "python",
   "name": "pycharm-689d67d1"
  },
  "language_info": {
   "codemirror_mode": {
    "name": "ipython",
    "version": 3
   },
   "file_extension": ".py",
   "mimetype": "text/x-python",
   "name": "python",
   "nbconvert_exporter": "python",
   "pygments_lexer": "ipython3",
   "version": "3.8.5"
  }
 },
 "nbformat": 4,
 "nbformat_minor": 1
}
