{
 "cells": [
  {
   "cell_type": "markdown",
   "metadata": {},
   "source": [
    "# Time Complexity"
   ]
  },
  {
   "cell_type": "markdown",
   "metadata": {},
   "source": [
    "## What is time complexity ?\n",
    "\n",
    "Imagine I want to find specific name in the class(with $N$ members), there is several aproaches to do so:\n",
    "\n",
    "- ask one by one indivuals whether they are that specific person or not.<br>\n",
    "in this case you will need to ask $N$ questions\n",
    "\n",
    "- Fist break class into two equal groups and then ask if that specifice person is in the one of groups or not, and recursively do the same thing on the target group.<br>\n",
    "in this case you will need $\\log(N)$ questions(WHY?).\n",
    "\n",
    "lets turn this into code:<br>\n",
    "find an specific number in given sorted array."
   ]
  },
  {
   "cell_type": "code",
   "execution_count": 34,
   "metadata": {},
   "outputs": [],
   "source": [
    "def approach0(num,arr):\n",
    "    ans = False\n",
    "    for i in arr:\n",
    "        if num == i:\n",
    "            ans = True\n",
    "    return ans\n",
    "\n",
    "def approach1(num,arr):\n",
    "    for i in arr:\n",
    "        if num == i:\n",
    "            return True\n",
    "    return False\n",
    "\n",
    "def approach2(num,arr):\n",
    "    low = 0\n",
    "    high = len(arr)\n",
    "    while low<=high:\n",
    "        mid = (low+high)//2\n",
    "        if num > arr[mid]: \n",
    "            low = mid+1\n",
    "        elif num < arr[mid]: \n",
    "            high = mid-1\n",
    "        elif num == arr[mid]: \n",
    "            return True\n",
    "    return False"
   ]
  },
  {
   "cell_type": "code",
   "execution_count": 3,
   "metadata": {},
   "outputs": [
    {
     "name": "stdout",
     "output_type": "stream",
     "text": [
      "True\n",
      "True\n",
      "True\n"
     ]
    }
   ],
   "source": [
    "# lets test functions using radom values\n",
    "from random import randint\n",
    "\n",
    "N = 100\n",
    "# generate test cases\n",
    "testCases = sorted([randint(0,N) for _ in range(N)])\n",
    "num = 10\n",
    "\n",
    "print(10 in testCases)\n",
    "print(approach1(10,testCases))\n",
    "print(approach2(10,testCases))"
   ]
  },
  {
   "cell_type": "code",
   "execution_count": 3,
   "metadata": {},
   "outputs": [
    {
     "name": "stdout",
     "output_type": "stream",
     "text": [
      "num=250000\n",
      "approach1(num,testCases)=False\n",
      "num.numberOfEqulity=1000000\n",
      "approach2(num,testCases)=True\n",
      "num.numberOfEqulity=1\n",
      "num.numberOfInequality=32\n",
      "----------\n",
      "num=500000\n",
      "approach1(num,testCases)=True\n",
      "num.numberOfEqulity=500936\n",
      "approach2(num,testCases)=True\n",
      "num.numberOfEqulity=1\n",
      "num.numberOfInequality=32\n",
      "----------\n",
      "num=750000\n",
      "approach1(num,testCases)=True\n",
      "num.numberOfEqulity=750005\n",
      "approach2(num,testCases)=True\n",
      "num.numberOfEqulity=1\n",
      "num.numberOfInequality=32\n",
      "----------\n",
      "num=999999\n",
      "approach1(num,testCases)=True\n",
      "num.numberOfEqulity=999999\n",
      "approach2(num,testCases)=True\n",
      "num.numberOfEqulity=1\n",
      "num.numberOfInequality=32\n",
      "----------\n"
     ]
    }
   ],
   "source": [
    "############# Bonuce part ####################\n",
    "# lets count number of equality checks\n",
    "\n",
    "class myNum(int):\n",
    "    def __init__(self,num):\n",
    "        super().__init__()\n",
    "        self.numberOfEqulity = 0\n",
    "        self.numberOfInequality = 0\n",
    "        self.num = num\n",
    "\n",
    "    def __eq__(self,other):\n",
    "        self.numberOfEqulity+=1\n",
    "        return self.num == other\n",
    "\n",
    "    def __lt__(self,other):\n",
    "        self.numberOfInequality+=1\n",
    "        return self.num<other\n",
    "    \n",
    "    def __gt__(self,other):\n",
    "        self.numberOfInequality+=1\n",
    "        return self.num>other\n",
    "        \n",
    "\n",
    "N = 10**6\n",
    "testCases = sorted([randint(0,N) for _ in range(N)])\n",
    "\n",
    "\n",
    "for i in [N//4,N//2,N//4*3,N-1]:\n",
    "    num = myNum(i)\n",
    "    print(f\"{num=}\")\n",
    "    print(f\"{approach1(num,testCases)=}\")\n",
    "    print(f\"{num.numberOfEqulity=}\")\n",
    "\n",
    "    num = myNum(10)\n",
    "    print(f\"{approach2(num,testCases)=}\")\n",
    "    print(f\"{num.numberOfEqulity=}\")\n",
    "    print(f\"{num.numberOfInequality=}\")\n",
    "    print(\"-\"*10)\n"
   ]
  },
  {
   "cell_type": "markdown",
   "metadata": {},
   "source": [
    "### More Examples"
   ]
  },
  {
   "cell_type": "code",
   "execution_count": 4,
   "metadata": {},
   "outputs": [
    {
     "name": "stdout",
     "output_type": "stream",
     "text": [
      "Example 1: 10000\n",
      "Example 2: 5050\n",
      "Example 3: 7\n",
      "Example 4: 1337\n"
     ]
    }
   ],
   "source": [
    "N = 100\n",
    "\n",
    "# Example 1\n",
    "x=0\n",
    "for i in range(N):\n",
    "    for j in range(N):\n",
    "        x+=1\n",
    "print(f\"Example 1: {x}\")\n",
    "\n",
    "# Example 2\n",
    "x=0\n",
    "for i in range(N):\n",
    "    for j in range(i,N):\n",
    "        x+=1\n",
    "print(f\"Example 2: {x}\")\n",
    "\n",
    "# Example 3\n",
    "i=1\n",
    "x=0\n",
    "while i<N:\n",
    "    x+=1\n",
    "    i*=2 # i = i*2\n",
    "print(f\"Example 3: {x}\")\n",
    "\n",
    "# Example 4\n",
    "x=0\n",
    "for i in range(2*N):\n",
    "    j=1\n",
    "    while j<i:\n",
    "        x+=1\n",
    "        j*=2\n",
    "print(f\"Example 4: {x}\")"
   ]
  },
  {
   "cell_type": "markdown",
   "metadata": {},
   "source": [
    "**Example 1** <br>\n",
    "its obvious :)\n",
    "\n",
    "**Example 2** <br>\n",
    "- number of second loop iteration in first iteration of first loop($i=0$): $N$\n",
    "- number of second loop iteration in second iteration of first loop($i=1$): $N-1$\n",
    "- number of second loop iteration in third iteration of first loop($i=2$): $N-2$\n",
    "- number of second loop iteration in 4th iteration of first loop($i=3$): $N-3$\n",
    "- number of second loop iteration in 5th iteration of first loop($i=4$): $N-4$\n",
    "<br>.\n",
    "<br>.\n",
    "<br>.\n",
    "- number of second loop iteration in (N-1)th iteration of first loop($i=N-2$): $1$\n",
    "- number of second loop iteration in Nth iteration of first loop($i=N-1$): $0$\n",
    "\n",
    "So:\n",
    "$$\n",
    "    x = 0+1+...+(N-1)+N = \\frac{N(N+1)}{2} = 5050\n",
    "$$\n",
    "\n",
    "**Example 3**<br>\n",
    "clearly the Values of *i* are power of 2:\n",
    "$$\n",
    "i \\in \\{2^k|k\\in \\mathbb{N}\\}=\\{1,2,4,8,16,32,64,...\\}\n",
    "$$\n",
    "\n",
    "We know $i = 2^x$ at the end of each loop iteration\n",
    "\n",
    "lets find maximum *i*\n",
    "$$\n",
    " \\begin{array}{l}\n",
    "i< N\\\\\n",
    "2^{x} < N\\\\\n",
    "x< \\lg( N)\n",
    "\\end{array}\n",
    "$$\n",
    "\n",
    "And we know $\\lg(100) = 7$\n",
    "\n",
    "**Example 4**\n",
    "$$\n",
    "x=\\lg 1 + \\lg 2 + \\lg 3 + ... + \\lg 2N = \\sum ^{2N}_{i=0}\\lg( i) =\\lg( 2N!)\n",
    "$$\n",
    "```python\n",
    "x=0\n",
    "for i in range(2*N):\n",
    "    j=1\n",
    "    while j<i:\n",
    "        x+=1\n",
    "        j*=2\n",
    "```"
   ]
  },
  {
   "cell_type": "code",
   "execution_count": 5,
   "metadata": {},
   "outputs": [
    {
     "data": {
      "text/plain": [
       "1245.3805070592086"
      ]
     },
     "execution_count": 5,
     "metadata": {},
     "output_type": "execute_result"
    }
   ],
   "source": [
    "from math import factorial, log2\n",
    "log2(factorial(2*N))\n",
    "# WHY ?"
   ]
  },
  {
   "cell_type": "markdown",
   "metadata": {},
   "source": [
    "# Lets dive into mathematics"
   ]
  },
  {
   "cell_type": "markdown",
   "metadata": {},
   "source": [
    "## Big Oh Notation\n",
    "Since O-notation describes an upper bound, when we use it to bound the worstcase running time of an algorithm, we have a bound on the running time of the algorithm on every input—the blanket statement we discussed earlier.\n",
    "$$\n",
    "\\mathcal{O}( f( n)) \\ =\\ \\{g( n) |\\exists \\ c >0,\\ n_{0} \\ \\ where\\ f( n) \\leqslant cg( n) \\ \\forall \\ n >n_{0}\\}\n",
    "$$\n",
    "\n",
    "OR\n",
    "$$\n",
    "g(n)\\in \\mathcal{O}( f( n))\\implies \\lim_{n \\to \\infty}\\;\\frac{f(n)}{g(n)} = 0\n",
    "$$\n",
    "\n",
    "![big Oh notation example](300px-Big-O-notation.png)\n",
    "\n",
    "**Example**\n",
    "- $n^2+13n+43\\in \\mathcal{O}(n^2)$\n",
    "- $\\frac{1}{1000}n^4+10000000n^3+10^{10^{10}}\\in \\mathcal{O}(n^4)$\n",
    "\n",
    "\n",
    "### Summation and Production\n",
    " - $\\mathcal{O}( f( n)) +\\mathcal{O}( g( n)) =\\mathcal{O}( f( n) +g( n))$\n",
    " - $\\mathcal{O}( f( n)) \\times \\mathcal{O}( g( n)) =\\mathcal{O}( f( n) \\times g( n))$\n",
    " - $\\mathcal{O}( cf( n)) =\\mathcal{O}( f( n))$\n",
    "\n",
    "Notation|Name|Example\n",
    ":-:|:-:|:-:\n",
    "$$\\mathcal{O}(1)$$      | constant    | Determining if a binary number is even or odd\n",
    "$$\\mathcal{O}(\\log(n))$$ | logarithmic | Finding an item in a sorted array with a binary search or a balanced search tree as well as all operations in a Binomial heap\n",
    "$$\\mathcal{O}( n)$$ | linear | Finding an item in an unsorted list\n",
    "$$\\mathcal{O}( n\\log n) =\\mathcal{O}(\\log n!)$$ | linearithmic, loglinear, quasilinear | quick sort\n",
    "$$\\mathcal{O}\\left(n^{c}\\right), _{c >1}$$ | fractional power   | bubble sort($c=2$)\n",
    "$$\\mathcal{O}\\left( c^{n}\\right), _{c >1}$$ | exponential | Finding the (exact) solution to the travelling salesman problem using dynamic programming; determining if two logical statements are equivalent using brute-force search\n",
    "$$\\mathcal{O}( n!)$$ | factorial | Solving the travelling salesman problem via brute-force search; generating all unrestricted permutations of a list\n",
    "\n",
    "check python operations complexity [here](https://wiki.python.org/moin/TimeComplexity)"
   ]
  },
  {
   "cell_type": "markdown",
   "metadata": {},
   "source": [
    "# Recursive Functions\n"
   ]
  },
  {
   "cell_type": "code",
   "execution_count": 6,
   "metadata": {},
   "outputs": [
    {
     "name": "stdout",
     "output_type": "stream",
     "text": [
      "30414093201713378043612608166064768844377641568960512000000000000\n"
     ]
    }
   ],
   "source": [
    "def fact(n):\n",
    "    if n==2:\n",
    "        return 2\n",
    "    return n*fact(n-1)\n",
    "print(fact(50))"
   ]
  },
  {
   "cell_type": "markdown",
   "metadata": {},
   "source": [
    "This function works in $\\mathcal{O}(n)$"
   ]
  },
  {
   "cell_type": "code",
   "execution_count": 18,
   "metadata": {},
   "outputs": [
    {
     "data": {
      "text/plain": [
       "2"
      ]
     },
     "execution_count": 18,
     "metadata": {},
     "output_type": "execute_result"
    }
   ],
   "source": [
    "t = [4,5,74,2,6,8,4,2,5,8]\n",
    "t[-3]"
   ]
  },
  {
   "cell_type": "code",
   "execution_count": 1,
   "metadata": {},
   "outputs": [
    {
     "name": "stdout",
     "output_type": "stream",
     "text": [
      "34\n"
     ]
    }
   ],
   "source": [
    "def fib0(n):\n",
    "    if n in [0,1]:\n",
    "        return 1\n",
    "    return fib0(n-1)+fib0(n-2)\n",
    "\n",
    "def fib1(n):\n",
    "    a,b=1,1\n",
    "    for i in range(n-1):\n",
    "        a,b = b,a+b\n",
    "        print(f\"{a=},{b=}\")\n",
    "    return b\n",
    "\n",
    "def fib1(n):\n",
    "    a,b=1,1\n",
    "    i = 0\n",
    "    while i < n-1:\n",
    "        a,b = b,a+b\n",
    "        print(f\"{a=},{b=}\")\n",
    "        i+=1\n",
    "    return b\n",
    "\n",
    "def fib2(n):\n",
    "    t = [1,1]\n",
    "    for i in range(n):\n",
    "        t.append(t[-1]+t[-2])\n",
    "    return t[-1]\n",
    "# print(fib0(50))\n",
    "print(fib2(7))\n",
    " "
   ]
  },
  {
   "cell_type": "markdown",
   "metadata": {},
   "source": [
    "**Question:** find the complexity of both functions "
   ]
  },
  {
   "cell_type": "code",
   "execution_count": null,
   "metadata": {},
   "outputs": [],
   "source": [
    "lst = [1,2,\"kasra\",4.56]"
   ]
  },
  {
   "cell_type": "markdown",
   "metadata": {},
   "source": [
    "# Arrays\n",
    "**a contiguous area of memory** that is one chunk of memory that can either be on the stack or it can be in the heap, doesn't really matter where it is. \n",
    "It is broken down into **equal-sized elements**, and each of those elements are **indexed by contiguous integers**."
   ]
  },
  {
   "cell_type": "markdown",
   "metadata": {},
   "source": [
    "## Why Arrays are Important?\n",
    "\n",
    "the address of our particular array element is:\n",
    "$$\n",
    "array\\_addr+ elem\\_size \\times (i-first\\_index)\n",
    "$$\n",
    "\n",
    "memory address|value|index\n",
    ":-:|:-|:--\n",
    "100|4|0\n",
    "104|5|1\n",
    "108|67|2\n",
    "112|8|3\n",
    "116|9|4\n",
    "120|2|5"
   ]
  },
  {
   "cell_type": "code",
   "execution_count": 36,
   "metadata": {},
   "outputs": [
    {
     "name": "stdout",
     "output_type": "stream",
     "text": [
      "buffer_info=(140295309587120, 6)\n",
      "0x7f990c1772b0\n"
     ]
    }
   ],
   "source": [
    "from array import array\n",
    "arr = array('i',[4,5,67,8,9,2])\n",
    "buffer_info = arr.buffer_info()\n",
    "print(f\"{buffer_info=}\")\n",
    "print(hex(buffer_info[0]))"
   ]
  },
  {
   "cell_type": "markdown",
   "metadata": {},
   "source": [
    "## Two Dimensional Arrays\n",
    "\n",
    "$$\n",
    "\\displaystyle \\begin{bmatrix}\n",
    "a_{00} & a_{01} & a_{02} & a_{03}\\\\\n",
    "a_{10} & a_{11} & a_{12} & a_{13}\\\\\n",
    "a_{20} & a_{21} & a_{22} & a_{23}\\\\\n",
    "a_{30} & a_{31} & a_{32} & a_{33}\n",
    "\\end{bmatrix}\n",
    "$$\n",
    "\n",
    "### Row-major \n",
    "$$\n",
    "\\begin{bmatrix}\n",
    "a_{00} & a_{01} & a_{02} & a_{03} & a_{10} & a_{11} & a_{12} & a_{13}& a_{20} & a_{21} & a_{22} & a_{23}& a_{30} & a_{31} & a_{32} & a_{33}\n",
    "\\end{bmatrix}\n",
    "$$\n",
    "\n",
    "Now to access $a_{ij}$ for $M\\times N$ matrix:\n",
    "$$\n",
    "array\\_adr + elem\\_size (N(i-I)+(j-J))\n",
    "$$\n",
    "\n",
    "### Column-major \n",
    "$$\n",
    "\\begin{bmatrix}\n",
    "a_{00} & a_{10} & a_{20} & a_{30} & a_{01} & a_{11} & a_{21} & a_{31}& a_{02} & a_{12} & a_{22} & a_{32}& a_{03} & a_{13} & a_{23} & a_{33}\n",
    "\\end{bmatrix}\n",
    "$$\n",
    "\n",
    "Now to access $a_{ij}$ for $M\\times N$ matrix:\n",
    "$$\n",
    "array\\_adr + elem\\_size ((i-I)+M(j-J))\n",
    "$$"
   ]
  },
  {
   "cell_type": "markdown",
   "metadata": {},
   "source": [
    "# Homeworks :)\n",
    "\n",
    "**Question1:** consider the question \"find the number of zeros at the end of $n!$ number\n",
    "```python\n",
    "def findLastZeros0(n):\n",
    "    nfact=fact(n)\n",
    "    counter = 0\n",
    "    while nfact%10 == 0:\n",
    "        nfact//=10\n",
    "        counter+=1\n",
    "    return counter\n",
    "```\n",
    "And:\n",
    "```python\n",
    "def findLastZeros1(n):\n",
    "    counter = 0\n",
    "    t = 1\n",
    "    for i in str(fact(n))[::-1]:\n",
    "        t = int(i=='0' and t)\n",
    "        counter+=t\n",
    "    return counter\n",
    "```\n",
    "Or this is as same as:\n",
    "```python\n",
    "def findLastZeros2(n):\n",
    "    t=1\n",
    "    return sum((t:=int(i=='0' and t)) for i in str(fact(n))[::-1])\n",
    "```\n",
    "\n",
    "your task is to:\n",
    "1. find the time complexity of these functions, and find out wich one is faster\n",
    "2. find a faster way to compute same value"
   ]
  },
  {
   "cell_type": "code",
   "execution_count": 9,
   "metadata": {},
   "outputs": [
    {
     "name": "stdout",
     "output_type": "stream",
     "text": [
      "fact(30)=265252859812191058636308480000000\n",
      "findLastZeros0(30)=7\n",
      "findLastZeros1(30)=7\n",
      "findLastZeros2(30)=7\n"
     ]
    }
   ],
   "source": [
    "def findLastZeros0(n):\n",
    "    nfact=fact(n)\n",
    "    counter = 0\n",
    "    while nfact%10 == 0:\n",
    "        nfact//=10\n",
    "        counter+=1\n",
    "    return counter\n",
    "def findLastZeros1(n):\n",
    "    counter = 0\n",
    "    t = 1\n",
    "    for i in str(fact(n))[::-1]:\n",
    "        t = int(i=='0' and t)\n",
    "        counter+=t\n",
    "    return counter\n",
    "\n",
    "def findLastZeros2(n):\n",
    "    t=1\n",
    "    return sum((t:=int(i=='0' and t)) for i in str(fact(n))[::-1])\n",
    "\n",
    "print(f\"{fact(30)=}\")\n",
    "print(f\"{findLastZeros0(30)=}\")\n",
    "print(f\"{findLastZeros1(30)=}\")\n",
    "print(f\"{findLastZeros2(30)=}\")\n"
   ]
  },
  {
   "cell_type": "markdown",
   "metadata": {},
   "source": [
    "**Question2:** implement two functions to convert two-dimensional array to one-dimensional and vise versa\n",
    "here is a template code for you."
   ]
  },
  {
   "cell_type": "code",
   "execution_count": 8,
   "metadata": {},
   "outputs": [],
   "source": [
    "def _2Dto1D(arr,method='Row-major'):\n",
    "    if method not in ['Row-major','Col-major']:\n",
    "        raise ValueError(f\"mathod must be either 'Row-major' or 'Col-major' not {method}\")\n",
    "    list1= []\n",
    "    for c in arr:\n",
    "        for x in c:\n",
    "            list1.append(x)\n",
    "    return list1\n",
    "\n",
    "def _1Dto2D(arr,n,m,method='Row-major'):\n",
    "    assert method in ['Row-major','Col-major'], f\"method must be either 'Row-major' or 'Col-major' not {method}\"\n",
    "    assert n*m==len(arr), f\"{n*m=} which must be {len(arr)}\"\n",
    "    # write your code here"
   ]
  },
  {
   "cell_type": "code",
   "execution_count": 31,
   "metadata": {},
   "outputs": [
    {
     "data": {
      "text/plain": [
       "0"
      ]
     },
     "execution_count": 31,
     "metadata": {},
     "output_type": "execute_result"
    }
   ],
   "source": [
    "t = 3\n",
    "i = '6'\n",
    "out=int(i=='0' and t)\n",
    "out"
   ]
  },
  {
   "cell_type": "code",
   "execution_count": 30,
   "metadata": {},
   "outputs": [
    {
     "data": {
      "text/plain": [
       "0"
      ]
     },
     "execution_count": 30,
     "metadata": {},
     "output_type": "execute_result"
    }
   ],
   "source": [
    "if i=='0':\n",
    "    out = t\n",
    "else:\n",
    "    out = 0\n",
    "out"
   ]
  },
  {
   "cell_type": "code",
   "execution_count": 32,
   "metadata": {},
   "outputs": [
    {
     "data": {
      "text/plain": [
       "3"
      ]
     },
     "execution_count": 32,
     "metadata": {},
     "output_type": "execute_result"
    }
   ],
   "source": [
    "i = '0'\n",
    "out=int(i=='0' and t)\n",
    "out"
   ]
  },
  {
   "cell_type": "code",
   "execution_count": 33,
   "metadata": {},
   "outputs": [
    {
     "data": {
      "text/plain": [
       "3"
      ]
     },
     "execution_count": 33,
     "metadata": {},
     "output_type": "execute_result"
    }
   ],
   "source": [
    "if i=='0':\n",
    "    out = t\n",
    "else:\n",
    "    out = 0\n",
    "out"
   ]
  },
  {
   "cell_type": "code",
   "execution_count": null,
   "metadata": {},
   "outputs": [],
   "source": []
  }
 ],
 "metadata": {
  "kernelspec": {
   "display_name": "Python 3",
   "language": "python",
   "name": "python3"
  },
  "language_info": {
   "codemirror_mode": {
    "name": "ipython",
    "version": 3
   },
   "file_extension": ".py",
   "mimetype": "text/x-python",
   "name": "python",
   "nbconvert_exporter": "python",
   "pygments_lexer": "ipython3",
   "version": "3.8.5"
  }
 },
 "nbformat": 4,
 "nbformat_minor": 4
}
