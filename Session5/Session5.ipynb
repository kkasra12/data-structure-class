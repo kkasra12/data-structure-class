{
 "cells": [
  {
   "cell_type": "markdown",
   "metadata": {
    "collapsed": true,
    "pycharm": {
     "name": "#%% md\n"
    }
   },
   "source": [
    "# Python Exceptions\n",
    "## Exception vs syntax Error"
   ]
  },
  {
   "cell_type": "code",
   "execution_count": 1,
   "metadata": {
    "pycharm": {
     "name": "#%%\n"
    }
   },
   "outputs": [
    {
     "ename": "SyntaxError",
     "evalue": "invalid syntax (<ipython-input-1-3fe5cac01236>, line 2)",
     "output_type": "error",
     "traceback": [
      "\u001B[0;36m  File \u001B[0;32m\"<ipython-input-1-3fe5cac01236>\"\u001B[0;36m, line \u001B[0;32m2\u001B[0m\n\u001B[0;31m    if a=4:\u001B[0m\n\u001B[0m        ^\u001B[0m\n\u001B[0;31mSyntaxError\u001B[0m\u001B[0;31m:\u001B[0m invalid syntax\n"
     ]
    }
   ],
   "source": [
    "a = int(input())\n",
    "if a=4:\n",
    "    print(\"a is 4\")"
   ]
  },
  {
   "cell_type": "markdown",
   "metadata": {
    "pycharm": {
     "name": "#%% md\n"
    }
   },
   "source": [
    "## Try Except"
   ]
  },
  {
   "cell_type": "code",
   "execution_count": 2,
   "metadata": {
    "pycharm": {
     "name": "#%%\n"
    }
   },
   "outputs": [
    {
     "data": {
      "text/plain": [
       "0.4"
      ]
     },
     "execution_count": 2,
     "metadata": {},
     "output_type": "execute_result"
    }
   ],
   "source": [
    "def divider(a,b):\n",
    "    if b!=0:\n",
    "        return a/b\n",
    "    else:\n",
    "        print(\"second operand cannot be zero\")\n",
    "\n",
    "def devider(a,b):\n",
    "    try:\n",
    "        return a/b\n",
    "    except:\n",
    "        print(\"second operand cannot be zero\")\n",
    "\n",
    "devider(2,5)"
   ]
  },
  {
   "cell_type": "code",
   "execution_count": 3,
   "metadata": {
    "pycharm": {
     "name": "#%%\n"
    }
   },
   "outputs": [
    {
     "name": "stdout",
     "output_type": "stream",
     "text": [
      "second operand cannot be zero\n"
     ]
    }
   ],
   "source": [
    "devider(1,0)"
   ]
  },
  {
   "cell_type": "code",
   "execution_count": 4,
   "metadata": {
    "pycharm": {
     "name": "#%%\n"
    }
   },
   "outputs": [
    {
     "name": "stdout",
     "output_type": "stream",
     "text": [
      "second operand cannot be zero\n"
     ]
    }
   ],
   "source": [
    "devider(\"5\",10)"
   ]
  },
  {
   "cell_type": "code",
   "execution_count": 6,
   "metadata": {
    "pycharm": {
     "name": "#%%\n"
    }
   },
   "outputs": [
    {
     "name": "stdout",
     "output_type": "stream",
     "text": [
      "second operand cannot be zero\n"
     ]
    }
   ],
   "source": [
    "def devider(a,b):\n",
    "    try:\n",
    "        return a/b\n",
    "    except ZeroDivisionError:\n",
    "        print(\"second operand cannot be zero\")\n",
    "\n",
    "devider(5,0)"
   ]
  },
  {
   "cell_type": "code",
   "execution_count": 7,
   "metadata": {},
   "outputs": [
    {
     "ename": "TypeError",
     "evalue": "unsupported operand type(s) for /: 'str' and 'int'",
     "output_type": "error",
     "traceback": [
      "\u001B[0;31m---------------------------------------------------------------------------\u001B[0m",
      "\u001B[0;31mTypeError\u001B[0m                                 Traceback (most recent call last)",
      "\u001B[0;32m<ipython-input-7-ba90aa8c68a9>\u001B[0m in \u001B[0;36m<module>\u001B[0;34m\u001B[0m\n\u001B[0;32m----> 1\u001B[0;31m \u001B[0mdevider\u001B[0m\u001B[0;34m(\u001B[0m\u001B[0;34m\"5\"\u001B[0m\u001B[0;34m,\u001B[0m\u001B[0;36m6\u001B[0m\u001B[0;34m)\u001B[0m\u001B[0;34m\u001B[0m\u001B[0;34m\u001B[0m\u001B[0m\n\u001B[0m",
      "\u001B[0;32m<ipython-input-6-402a060a817f>\u001B[0m in \u001B[0;36mdevider\u001B[0;34m(a, b)\u001B[0m\n\u001B[1;32m      1\u001B[0m \u001B[0;32mdef\u001B[0m \u001B[0mdevider\u001B[0m\u001B[0;34m(\u001B[0m\u001B[0ma\u001B[0m\u001B[0;34m,\u001B[0m\u001B[0mb\u001B[0m\u001B[0;34m)\u001B[0m\u001B[0;34m:\u001B[0m\u001B[0;34m\u001B[0m\u001B[0;34m\u001B[0m\u001B[0m\n\u001B[1;32m      2\u001B[0m     \u001B[0;32mtry\u001B[0m\u001B[0;34m:\u001B[0m\u001B[0;34m\u001B[0m\u001B[0;34m\u001B[0m\u001B[0m\n\u001B[0;32m----> 3\u001B[0;31m         \u001B[0;32mreturn\u001B[0m \u001B[0ma\u001B[0m\u001B[0;34m/\u001B[0m\u001B[0mb\u001B[0m\u001B[0;34m\u001B[0m\u001B[0;34m\u001B[0m\u001B[0m\n\u001B[0m\u001B[1;32m      4\u001B[0m     \u001B[0;32mexcept\u001B[0m \u001B[0mZeroDivisionError\u001B[0m\u001B[0;34m:\u001B[0m\u001B[0;34m\u001B[0m\u001B[0;34m\u001B[0m\u001B[0m\n\u001B[1;32m      5\u001B[0m         \u001B[0mprint\u001B[0m\u001B[0;34m(\u001B[0m\u001B[0;34m\"second operand cannot be zero\"\u001B[0m\u001B[0;34m)\u001B[0m\u001B[0;34m\u001B[0m\u001B[0;34m\u001B[0m\u001B[0m\n",
      "\u001B[0;31mTypeError\u001B[0m: unsupported operand type(s) for /: 'str' and 'int'"
     ]
    }
   ],
   "source": [
    "devider(\"5\",6)"
   ]
  },
  {
   "cell_type": "code",
   "execution_count": 8,
   "metadata": {
    "pycharm": {
     "name": "#%%\n"
    }
   },
   "outputs": [
    {
     "name": "stdout",
     "output_type": "stream",
     "text": [
      "both operands must be int or float\n"
     ]
    }
   ],
   "source": [
    "def devider(a,b):\n",
    "    try:\n",
    "        return a/b\n",
    "    except ZeroDivisionError:\n",
    "        print(\"second operand cannot be zero\")\n",
    "    except TypeError:\n",
    "        print(\"both operands must be int or float\")\n",
    "devider(\"5\",3.1)"
   ]
  },
  {
   "cell_type": "code",
   "execution_count": 9,
   "metadata": {
    "pycharm": {
     "name": "#%%\n"
    }
   },
   "outputs": [
    {
     "name": "stdout",
     "output_type": "stream",
     "text": [
      "both operands must be int or float\n"
     ]
    }
   ],
   "source": [
    "devider(\"5\",0)"
   ]
  },
  {
   "cell_type": "code",
   "execution_count": 12,
   "metadata": {},
   "outputs": [
    {
     "name": "stdout",
     "output_type": "stream",
     "text": [
      "there is an error\n"
     ]
    }
   ],
   "source": [
    "def devider(a,b):\n",
    "    try:\n",
    "        return a/b\n",
    "    except (ZeroDivisionError, TypeError):\n",
    "        print(\"there is an error\")\n",
    "devider(5,0)"
   ]
  },
  {
   "cell_type": "code",
   "execution_count": null,
   "metadata": {
    "pycharm": {
     "name": "#%%\n"
    }
   },
   "outputs": [],
   "source": [
    "def devider(a,b):\n",
    "    try:\n",
    "        return a/b\n",
    "    except ZeroDivisionError:\n",
    "        print(\"second operand cannot be zero\")\n",
    "    except TypeError:\n",
    "        print(\"both operands must be int or double\")\n",
    "    except:\n",
    "        print(\"an unknown error occurred !\")\n",
    "\n",
    "# OR\n",
    "\n",
    "def devider(a,b):\n",
    "    try:\n",
    "        return a/b\n",
    "    except ZeroDivisionError:\n",
    "        print(\"second operand cannot be zero\")\n",
    "    except TypeError:\n",
    "        print(\"both operands must be int or double\")\n",
    "    except Exception as e:\n",
    "        print(\"an unknown error occurred !\")\n",
    "        print(e)"
   ]
  },
  {
   "cell_type": "code",
   "execution_count": 16,
   "metadata": {
    "pycharm": {
     "name": "#%%\n"
    }
   },
   "outputs": [
    {
     "name": "stdout",
     "output_type": "stream",
     "text": [
      "1.6666666666666667\n",
      "answer evaluated without no error\n",
      "----------\n",
      "second operand cannot be zero\n"
     ]
    }
   ],
   "source": [
    "try:\n",
    "    print(5/3)\n",
    "except ZeroDivisionError:\n",
    "    print(\"second operand cannot be zero\")\n",
    "except TypeError:\n",
    "    print(\"both operands must be int or double\")\n",
    "except Exception as e:\n",
    "    print(\"an unknown error occurred !\")\n",
    "    print(e)\n",
    "else:\n",
    "    print(\"answer evaluated without no error\")\n",
    "    \n",
    "    \n",
    "print(\"----------\")\n",
    "\n",
    "try:\n",
    "    print(5/0)\n",
    "except ZeroDivisionError:\n",
    "    print(\"second operand cannot be zero\")\n",
    "except TypeError:\n",
    "    print(\"both operands must be int or double\")\n",
    "except Exception as e:\n",
    "    print(\"an unknown error occurred !\")\n",
    "    print(e)\n",
    "else:\n",
    "    print(\"answer evaluated without no error\")"
   ]
  },
  {
   "cell_type": "code",
   "execution_count": 17,
   "metadata": {
    "pycharm": {
     "name": "#%%\n"
    }
   },
   "outputs": [
    {
     "data": {
      "text/plain": [
       "0.8333333333333334"
      ]
     },
     "execution_count": 17,
     "metadata": {},
     "output_type": "execute_result"
    }
   ],
   "source": [
    "def devider(a,b):\n",
    "    try:\n",
    "        return a/b\n",
    "    except ZeroDivisionError:\n",
    "        print(\"second operand cannot be zero\")\n",
    "    except TypeError:\n",
    "        print(\"both operands must be int or double\")\n",
    "    except Exception as e:\n",
    "        print(\"an unknown error occurred !\")\n",
    "        print(e)\n",
    "    else:\n",
    "        print(\"answer evaluated without no error\")\n",
    "\n",
    "devider(5,6)"
   ]
  },
  {
   "cell_type": "code",
   "execution_count": 20,
   "metadata": {
    "pycharm": {
     "name": "#%%\n"
    }
   },
   "outputs": [
    {
     "name": "stdout",
     "output_type": "stream",
     "text": [
      "executing try:\n",
      "finished!\n",
      "0.8333333333333334\n"
     ]
    }
   ],
   "source": [
    "def devider(a,b):\n",
    "    try:\n",
    "        print(\"executing try:\")\n",
    "        return a/b\n",
    "    except ZeroDivisionError:\n",
    "        print(\"second operand cannot be zero\")\n",
    "    except TypeError:\n",
    "        print(\"both operands must be int or double\")\n",
    "    except Exception as e:\n",
    "        print(\"an unknown error occurred !\")\n",
    "        print(e)\n",
    "    else:\n",
    "        print(\"answer evaluated without no error\")\n",
    "    finally:\n",
    "        print(\"finished!\")\n",
    "\n",
    "print(devider(5,6))"
   ]
  },
  {
   "cell_type": "code",
   "execution_count": 21,
   "metadata": {
    "pycharm": {
     "name": "#%%\n"
    }
   },
   "outputs": [
    {
     "name": "stdout",
     "output_type": "stream",
     "text": [
      "try\n",
      "finally\n"
     ]
    },
    {
     "data": {
      "text/plain": [
       "0"
      ]
     },
     "execution_count": 21,
     "metadata": {},
     "output_type": "execute_result"
    }
   ],
   "source": [
    "def devider(a,b):\n",
    "    try:\n",
    "        print(\"try\")\n",
    "        return a/b\n",
    "    except ZeroDivisionError:\n",
    "        print(\"second operand cannot be zero\")\n",
    "    except TypeError:\n",
    "        print(\"both operands must be int or double\")\n",
    "    except Exception as e:\n",
    "        print(\"an unknown error occurred !\")\n",
    "        print(e)\n",
    "    else:\n",
    "        print(\"answer evaluated without no error\")\n",
    "    finally:\n",
    "        print(\"finally\")\n",
    "        return 0\n",
    "\n",
    "devider(5,6)"
   ]
  },
  {
   "cell_type": "markdown",
   "metadata": {
    "pycharm": {
     "name": "#%% md\n"
    }
   },
   "source": [
    "## Assertion"
   ]
  },
  {
   "cell_type": "code",
   "execution_count": 22,
   "metadata": {
    "pycharm": {
     "name": "#%%\n"
    }
   },
   "outputs": [
    {
     "ename": "AssertionError",
     "evalue": "",
     "output_type": "error",
     "traceback": [
      "\u001B[0;31m---------------------------------------------------------------------------\u001B[0m",
      "\u001B[0;31mAssertionError\u001B[0m                            Traceback (most recent call last)",
      "\u001B[0;32m<ipython-input-22-116bb045b3bb>\u001B[0m in \u001B[0;36m<module>\u001B[0;34m\u001B[0m\n\u001B[1;32m      1\u001B[0m \u001B[0;32massert\u001B[0m \u001B[0;36m1\u001B[0m\u001B[0;34m==\u001B[0m\u001B[0;36m1\u001B[0m\u001B[0;34m\u001B[0m\u001B[0;34m\u001B[0m\u001B[0m\n\u001B[0;32m----> 2\u001B[0;31m \u001B[0;32massert\u001B[0m \u001B[0;36m1\u001B[0m\u001B[0;34m==\u001B[0m\u001B[0;36m2\u001B[0m\u001B[0;34m\u001B[0m\u001B[0;34m\u001B[0m\u001B[0m\n\u001B[0m\u001B[1;32m      3\u001B[0m \u001B[0mprint\u001B[0m\u001B[0;34m(\u001B[0m\u001B[0;34m\"finish\"\u001B[0m\u001B[0;34m)\u001B[0m\u001B[0;34m\u001B[0m\u001B[0;34m\u001B[0m\u001B[0m\n",
      "\u001B[0;31mAssertionError\u001B[0m: "
     ]
    }
   ],
   "source": [
    "assert 1==1\n",
    "assert 1==2\n",
    "print(\"finish\")"
   ]
  },
  {
   "cell_type": "code",
   "execution_count": 27,
   "metadata": {},
   "outputs": [
    {
     "data": {
      "text/plain": [
       "float"
      ]
     },
     "execution_count": 27,
     "metadata": {},
     "output_type": "execute_result"
    }
   ],
   "source": [
    "type(2.3)"
   ]
  },
  {
   "cell_type": "code",
   "execution_count": 24,
   "metadata": {
    "pycharm": {
     "name": "#%%\n"
    }
   },
   "outputs": [
    {
     "ename": "AssertionError",
     "evalue": "",
     "output_type": "error",
     "traceback": [
      "\u001B[0;31m---------------------------------------------------------------------------\u001B[0m",
      "\u001B[0;31mAssertionError\u001B[0m                            Traceback (most recent call last)",
      "\u001B[0;32m<ipython-input-24-a9a8c5130d74>\u001B[0m in \u001B[0;36m<module>\u001B[0;34m\u001B[0m\n\u001B[1;32m      4\u001B[0m     \u001B[0;32massert\u001B[0m \u001B[0misinstance\u001B[0m\u001B[0;34m(\u001B[0m\u001B[0mb\u001B[0m\u001B[0;34m,\u001B[0m\u001B[0mint\u001B[0m\u001B[0;34m)\u001B[0m \u001B[0;32mor\u001B[0m \u001B[0misinstance\u001B[0m\u001B[0;34m(\u001B[0m\u001B[0mb\u001B[0m\u001B[0;34m,\u001B[0m\u001B[0mfloat\u001B[0m\u001B[0;34m)\u001B[0m\u001B[0;34m\u001B[0m\u001B[0;34m\u001B[0m\u001B[0m\n\u001B[1;32m      5\u001B[0m     \u001B[0;32mreturn\u001B[0m \u001B[0ma\u001B[0m\u001B[0;34m/\u001B[0m\u001B[0mb\u001B[0m\u001B[0;34m\u001B[0m\u001B[0;34m\u001B[0m\u001B[0m\n\u001B[0;32m----> 6\u001B[0;31m \u001B[0mdevider\u001B[0m\u001B[0;34m(\u001B[0m\u001B[0;36m4\u001B[0m\u001B[0;34m,\u001B[0m\u001B[0;36m0\u001B[0m\u001B[0;34m)\u001B[0m\u001B[0;34m\u001B[0m\u001B[0;34m\u001B[0m\u001B[0m\n\u001B[0m",
      "\u001B[0;32m<ipython-input-24-a9a8c5130d74>\u001B[0m in \u001B[0;36mdevider\u001B[0;34m(a, b)\u001B[0m\n\u001B[1;32m      1\u001B[0m \u001B[0;32mdef\u001B[0m \u001B[0mdevider\u001B[0m\u001B[0;34m(\u001B[0m\u001B[0ma\u001B[0m\u001B[0;34m,\u001B[0m\u001B[0mb\u001B[0m\u001B[0;34m)\u001B[0m\u001B[0;34m:\u001B[0m\u001B[0;34m\u001B[0m\u001B[0;34m\u001B[0m\u001B[0m\n\u001B[0;32m----> 2\u001B[0;31m     \u001B[0;32massert\u001B[0m \u001B[0mb\u001B[0m\u001B[0;34m!=\u001B[0m\u001B[0;36m0\u001B[0m\u001B[0;34m\u001B[0m\u001B[0;34m\u001B[0m\u001B[0m\n\u001B[0m\u001B[1;32m      3\u001B[0m     \u001B[0;32massert\u001B[0m \u001B[0misinstance\u001B[0m\u001B[0;34m(\u001B[0m\u001B[0ma\u001B[0m\u001B[0;34m,\u001B[0m\u001B[0mint\u001B[0m\u001B[0;34m)\u001B[0m \u001B[0;32mor\u001B[0m \u001B[0misinstance\u001B[0m\u001B[0;34m(\u001B[0m\u001B[0ma\u001B[0m\u001B[0;34m,\u001B[0m\u001B[0mfloat\u001B[0m\u001B[0;34m)\u001B[0m\u001B[0;34m\u001B[0m\u001B[0;34m\u001B[0m\u001B[0m\n\u001B[1;32m      4\u001B[0m     \u001B[0;32massert\u001B[0m \u001B[0misinstance\u001B[0m\u001B[0;34m(\u001B[0m\u001B[0mb\u001B[0m\u001B[0;34m,\u001B[0m\u001B[0mint\u001B[0m\u001B[0;34m)\u001B[0m \u001B[0;32mor\u001B[0m \u001B[0misinstance\u001B[0m\u001B[0;34m(\u001B[0m\u001B[0mb\u001B[0m\u001B[0;34m,\u001B[0m\u001B[0mfloat\u001B[0m\u001B[0;34m)\u001B[0m\u001B[0;34m\u001B[0m\u001B[0;34m\u001B[0m\u001B[0m\n\u001B[1;32m      5\u001B[0m     \u001B[0;32mreturn\u001B[0m \u001B[0ma\u001B[0m\u001B[0;34m/\u001B[0m\u001B[0mb\u001B[0m\u001B[0;34m\u001B[0m\u001B[0;34m\u001B[0m\u001B[0m\n",
      "\u001B[0;31mAssertionError\u001B[0m: "
     ]
    }
   ],
   "source": [
    "def devider(a,b):\n",
    "    assert b!=0\n",
    "    assert isinstance(a,int) or isinstance(a,float)\n",
    "    assert isinstance(b,int) or isinstance(b,float)\n",
    "    return a/b\n",
    "devider(4,0)"
   ]
  },
  {
   "cell_type": "code",
   "execution_count": 28,
   "metadata": {
    "pycharm": {
     "name": "#%%\n"
    }
   },
   "outputs": [
    {
     "ename": "AssertionError",
     "evalue": "second operand should be int or float not <class 'str'>",
     "output_type": "error",
     "traceback": [
      "\u001B[0;31m---------------------------------------------------------------------------\u001B[0m",
      "\u001B[0;31mAssertionError\u001B[0m                            Traceback (most recent call last)",
      "\u001B[0;32m<ipython-input-28-98e9aecfcdf9>\u001B[0m in \u001B[0;36m<module>\u001B[0;34m\u001B[0m\n\u001B[1;32m      4\u001B[0m     \u001B[0;32massert\u001B[0m \u001B[0misinstance\u001B[0m\u001B[0;34m(\u001B[0m\u001B[0mb\u001B[0m\u001B[0;34m,\u001B[0m\u001B[0mint\u001B[0m\u001B[0;34m)\u001B[0m \u001B[0;32mor\u001B[0m \u001B[0misinstance\u001B[0m\u001B[0;34m(\u001B[0m\u001B[0mb\u001B[0m\u001B[0;34m,\u001B[0m\u001B[0mfloat\u001B[0m\u001B[0;34m)\u001B[0m\u001B[0;34m,\u001B[0m\u001B[0;34mf\"second operand should be int or float not {type(b)}\"\u001B[0m\u001B[0;34m\u001B[0m\u001B[0;34m\u001B[0m\u001B[0m\n\u001B[1;32m      5\u001B[0m     \u001B[0;32mreturn\u001B[0m \u001B[0ma\u001B[0m\u001B[0;34m/\u001B[0m\u001B[0mb\u001B[0m\u001B[0;34m\u001B[0m\u001B[0;34m\u001B[0m\u001B[0m\n\u001B[0;32m----> 6\u001B[0;31m \u001B[0mdevider\u001B[0m\u001B[0;34m(\u001B[0m\u001B[0;36m4\u001B[0m\u001B[0;34m,\u001B[0m\u001B[0;34m\"0\"\u001B[0m\u001B[0;34m)\u001B[0m\u001B[0;34m\u001B[0m\u001B[0;34m\u001B[0m\u001B[0m\n\u001B[0m",
      "\u001B[0;32m<ipython-input-28-98e9aecfcdf9>\u001B[0m in \u001B[0;36mdevider\u001B[0;34m(a, b)\u001B[0m\n\u001B[1;32m      2\u001B[0m     \u001B[0;32massert\u001B[0m \u001B[0mb\u001B[0m\u001B[0;34m!=\u001B[0m\u001B[0;36m0\u001B[0m\u001B[0;34m,\u001B[0m \u001B[0;34m\"second operand cannot be zero\"\u001B[0m\u001B[0;34m\u001B[0m\u001B[0;34m\u001B[0m\u001B[0m\n\u001B[1;32m      3\u001B[0m     \u001B[0;32massert\u001B[0m \u001B[0misinstance\u001B[0m\u001B[0;34m(\u001B[0m\u001B[0ma\u001B[0m\u001B[0;34m,\u001B[0m\u001B[0mint\u001B[0m\u001B[0;34m)\u001B[0m \u001B[0;32mor\u001B[0m \u001B[0misinstance\u001B[0m\u001B[0;34m(\u001B[0m\u001B[0ma\u001B[0m\u001B[0;34m,\u001B[0m\u001B[0mfloat\u001B[0m\u001B[0;34m)\u001B[0m\u001B[0;34m,\u001B[0m\u001B[0;34mf\"first operand should be int or float not {type(a)}\"\u001B[0m\u001B[0;34m\u001B[0m\u001B[0;34m\u001B[0m\u001B[0m\n\u001B[0;32m----> 4\u001B[0;31m     \u001B[0;32massert\u001B[0m \u001B[0misinstance\u001B[0m\u001B[0;34m(\u001B[0m\u001B[0mb\u001B[0m\u001B[0;34m,\u001B[0m\u001B[0mint\u001B[0m\u001B[0;34m)\u001B[0m \u001B[0;32mor\u001B[0m \u001B[0misinstance\u001B[0m\u001B[0;34m(\u001B[0m\u001B[0mb\u001B[0m\u001B[0;34m,\u001B[0m\u001B[0mfloat\u001B[0m\u001B[0;34m)\u001B[0m\u001B[0;34m,\u001B[0m\u001B[0;34mf\"second operand should be int or float not {type(b)}\"\u001B[0m\u001B[0;34m\u001B[0m\u001B[0;34m\u001B[0m\u001B[0m\n\u001B[0m\u001B[1;32m      5\u001B[0m     \u001B[0;32mreturn\u001B[0m \u001B[0ma\u001B[0m\u001B[0;34m/\u001B[0m\u001B[0mb\u001B[0m\u001B[0;34m\u001B[0m\u001B[0;34m\u001B[0m\u001B[0m\n\u001B[1;32m      6\u001B[0m \u001B[0mdevider\u001B[0m\u001B[0;34m(\u001B[0m\u001B[0;36m4\u001B[0m\u001B[0;34m,\u001B[0m\u001B[0;34m\"0\"\u001B[0m\u001B[0;34m)\u001B[0m\u001B[0;34m\u001B[0m\u001B[0;34m\u001B[0m\u001B[0m\n",
      "\u001B[0;31mAssertionError\u001B[0m: second operand should be int or float not <class 'str'>"
     ]
    }
   ],
   "source": [
    "def devider(a,b):\n",
    "    assert b!=0, \"second operand cannot be zero\"\n",
    "    assert isinstance(a,int) or isinstance(a,float),f\"first operand should be int or float not {type(a)}\"\n",
    "    assert isinstance(b,int) or isinstance(b,float),f\"second operand should be int or float not {type(b)}\"\n",
    "    return a/b\n",
    "devider(4,\"0\")"
   ]
  },
  {
   "cell_type": "markdown",
   "metadata": {
    "pycharm": {
     "name": "#%% md\n"
    }
   },
   "source": [
    "## Raise"
   ]
  },
  {
   "cell_type": "code",
   "execution_count": 29,
   "metadata": {
    "pycharm": {
     "name": "#%%\n"
    }
   },
   "outputs": [
    {
     "ename": "ValueError",
     "evalue": "second operand should be int or float not <class 'str'>",
     "output_type": "error",
     "traceback": [
      "\u001B[0;31m---------------------------------------------------------------------------\u001B[0m",
      "\u001B[0;31mValueError\u001B[0m                                Traceback (most recent call last)",
      "\u001B[0;32m<ipython-input-29-18d720744919>\u001B[0m in \u001B[0;36m<module>\u001B[0;34m\u001B[0m\n\u001B[1;32m     17\u001B[0m     \u001B[0;32mreturn\u001B[0m \u001B[0ma\u001B[0m\u001B[0;34m/\u001B[0m\u001B[0mb\u001B[0m\u001B[0;34m\u001B[0m\u001B[0;34m\u001B[0m\u001B[0m\n\u001B[1;32m     18\u001B[0m \u001B[0;34m\u001B[0m\u001B[0m\n\u001B[0;32m---> 19\u001B[0;31m \u001B[0mdevider\u001B[0m\u001B[0;34m(\u001B[0m\u001B[0;36m5\u001B[0m\u001B[0;34m,\u001B[0m\u001B[0;34m\"5\"\u001B[0m\u001B[0;34m)\u001B[0m\u001B[0;34m\u001B[0m\u001B[0;34m\u001B[0m\u001B[0m\n\u001B[0m",
      "\u001B[0;32m<ipython-input-29-18d720744919>\u001B[0m in \u001B[0;36mdevider\u001B[0;34m(a, b)\u001B[0m\n\u001B[1;32m     14\u001B[0m         \u001B[0;32mraise\u001B[0m \u001B[0mValueError\u001B[0m\u001B[0;34m(\u001B[0m\u001B[0;34mf\"first operand should be int or float not {type(a)}\"\u001B[0m\u001B[0;34m)\u001B[0m\u001B[0;34m\u001B[0m\u001B[0;34m\u001B[0m\u001B[0m\n\u001B[1;32m     15\u001B[0m     \u001B[0;32mif\u001B[0m \u001B[0;32mnot\u001B[0m \u001B[0misinstance\u001B[0m\u001B[0;34m(\u001B[0m\u001B[0mb\u001B[0m\u001B[0;34m,\u001B[0m\u001B[0mint\u001B[0m\u001B[0;34m)\u001B[0m \u001B[0;32mand\u001B[0m \u001B[0;32mnot\u001B[0m \u001B[0misinstance\u001B[0m\u001B[0;34m(\u001B[0m\u001B[0mb\u001B[0m\u001B[0;34m,\u001B[0m\u001B[0mfloat\u001B[0m\u001B[0;34m)\u001B[0m\u001B[0;34m:\u001B[0m\u001B[0;34m\u001B[0m\u001B[0;34m\u001B[0m\u001B[0m\n\u001B[0;32m---> 16\u001B[0;31m         \u001B[0;32mraise\u001B[0m \u001B[0mValueError\u001B[0m\u001B[0;34m(\u001B[0m\u001B[0;34mf\"second operand should be int or float not {type(b)}\"\u001B[0m\u001B[0;34m)\u001B[0m\u001B[0;34m\u001B[0m\u001B[0;34m\u001B[0m\u001B[0m\n\u001B[0m\u001B[1;32m     17\u001B[0m     \u001B[0;32mreturn\u001B[0m \u001B[0ma\u001B[0m\u001B[0;34m/\u001B[0m\u001B[0mb\u001B[0m\u001B[0;34m\u001B[0m\u001B[0;34m\u001B[0m\u001B[0m\n\u001B[1;32m     18\u001B[0m \u001B[0;34m\u001B[0m\u001B[0m\n",
      "\u001B[0;31mValueError\u001B[0m: second operand should be int or float not <class 'str'>"
     ]
    }
   ],
   "source": [
    "def devider(a,b):\n",
    "    if b==0:\n",
    "        raise ValueError(\"second operand cannot be zero\")\n",
    "    if not(isinstance(a,int) or isinstance(a,float)):\n",
    "        raise ValueError(f\"first operand should be int or float not {type(a)}\")\n",
    "    if not(isinstance(b,int) or isinstance(b,float)):\n",
    "        raise ValueError(f\"second operand should be int or float not {type(b)}\")\n",
    "    return a/b\n",
    "\n",
    "def devider(a,b):\n",
    "    if b==0:\n",
    "        raise ValueError(\"second operand cannot be zero\")\n",
    "    if not isinstance(a,int) and not isinstance(a,float):\n",
    "        raise ValueError(f\"first operand should be int or float not {type(a)}\")\n",
    "    if not isinstance(b,int) and not isinstance(b,float):\n",
    "        raise ValueError(f\"second operand should be int or float not {type(b)}\")\n",
    "    return a/b\n",
    "\n",
    "devider(5,\"5\")"
   ]
  },
  {
   "cell_type": "markdown",
   "metadata": {
    "pycharm": {
     "name": "#%% md\n"
    }
   },
   "source": [
    "for more info visit [here](https://docs.python.org/3/library/exceptions.html)"
   ]
  },
  {
   "cell_type": "markdown",
   "metadata": {
    "pycharm": {
     "name": "#%% md\n"
    }
   },
   "source": [
    "## Create new Exceptions"
   ]
  },
  {
   "cell_type": "code",
   "execution_count": 31,
   "metadata": {
    "pycharm": {
     "name": "#%%\n"
    }
   },
   "outputs": [
    {
     "ename": "VersionControlException",
     "evalue": "u must have at lease python 3.9 to execute this code",
     "output_type": "error",
     "traceback": [
      "\u001B[0;31m---------------------------------------------------------------------------\u001B[0m",
      "\u001B[0;31mVersionControlException\u001B[0m                   Traceback (most recent call last)",
      "\u001B[0;32m<ipython-input-31-1af1f5e84e3e>\u001B[0m in \u001B[0;36m<module>\u001B[0;34m\u001B[0m\n\u001B[1;32m      5\u001B[0m \u001B[0;34m\u001B[0m\u001B[0m\n\u001B[1;32m      6\u001B[0m \u001B[0;32mif\u001B[0m \u001B[0mversion_info\u001B[0m\u001B[0;34m.\u001B[0m\u001B[0mmajor\u001B[0m \u001B[0;34m!=\u001B[0m \u001B[0;36m3\u001B[0m \u001B[0;32mor\u001B[0m \u001B[0mversion_info\u001B[0m\u001B[0;34m.\u001B[0m\u001B[0mminor\u001B[0m\u001B[0;34m<\u001B[0m\u001B[0;36m9\u001B[0m\u001B[0;34m:\u001B[0m\u001B[0;34m\u001B[0m\u001B[0;34m\u001B[0m\u001B[0m\n\u001B[0;32m----> 7\u001B[0;31m     \u001B[0;32mraise\u001B[0m \u001B[0mVersionControlException\u001B[0m\u001B[0;34m(\u001B[0m\u001B[0;34m\"u must have at lease python 3.9 to execute this code\"\u001B[0m\u001B[0;34m)\u001B[0m\u001B[0;34m\u001B[0m\u001B[0;34m\u001B[0m\u001B[0m\n\u001B[0m\u001B[1;32m      8\u001B[0m \u001B[0;34m\u001B[0m\u001B[0m\n\u001B[1;32m      9\u001B[0m \u001B[0mx\u001B[0m \u001B[0;34m=\u001B[0m \u001B[0;34m{\u001B[0m\u001B[0;34m\"key1\"\u001B[0m\u001B[0;34m:\u001B[0m \u001B[0;34m\"value1 from x\"\u001B[0m\u001B[0;34m,\u001B[0m \u001B[0;34m\"key2\"\u001B[0m\u001B[0;34m:\u001B[0m \u001B[0;34m\"value2 from x\"\u001B[0m\u001B[0;34m}\u001B[0m\u001B[0;34m\u001B[0m\u001B[0;34m\u001B[0m\u001B[0m\n",
      "\u001B[0;31mVersionControlException\u001B[0m: u must have at lease python 3.9 to execute this code"
     ]
    }
   ],
   "source": [
    "from sys import version_info\n",
    "\n",
    "class VersionControlException(Exception):\n",
    "    pass\n",
    "\n",
    "if version_info.major != 3 or version_info.minor<9:\n",
    "    raise VersionControlException(\"u must have at lease python 3.9 to execute this code\")\n",
    "    \n",
    "x = {\"key1\": \"value1 from x\", \"key2\": \"value2 from x\"}\n",
    "y = {\"key2\": \"value2 from y\", \"key3\": \"value3 from y\"}\n",
    "x | y"
   ]
  },
  {
   "cell_type": "markdown",
   "metadata": {
    "pycharm": {
     "name": "#%% md\n"
    }
   },
   "source": [
    "# Traversing Tree"
   ]
  },
  {
   "cell_type": "markdown",
   "metadata": {
    "pycharm": {
     "name": "#%% md\n"
    }
   },
   "source": [
    "## depth first search\n",
    "in this approach, we completely traverse one sub-tree\n",
    "before we go on to a sibling sub-tree.\n",
    "\n",
    "## breadth-first search\n",
    "in this approach, we traverse all the nodes at one level\n",
    "before we go to the next level.\n",
    "So in that case we would traverse all of our siblings,\n",
    "before we visited,\n",
    "any of the children of the neighbor siblings.\n",
    "\n",
    "![dfs_bfs.png](dfs_bfs.png)"
   ]
  },
  {
   "cell_type": "code",
   "execution_count": 41,
   "metadata": {
    "pycharm": {
     "name": "#%%\n"
    }
   },
   "outputs": [],
   "source": [
    "class Node:\n",
    "    def __init__(self,data,left=None,right=None):\n",
    "        self.left = left\n",
    "        self.right = right\n",
    "        self.data = data\n",
    "    def is_leaf(self):\n",
    "        return self.left is None and self.right is None\n",
    "    def __str__(self):\n",
    "        return \"NODE: \"+str(self.data)\n",
    "    def __repr__(self):\n",
    "        return str(self)\n",
    "    \n",
    "T = Node(5)\n",
    "t4 = Node(4)\n",
    "T.left = t4\n",
    "T.right = Node(6)\n",
    "\n",
    "t4.left = Node(2)\n",
    "t4.right = Node(3)\n",
    "\n",
    "T.right.left = Node(7)"
   ]
  },
  {
   "cell_type": "markdown",
   "metadata": {
    "pycharm": {
     "name": "#%% md\n"
    }
   },
   "source": [
    "![eg.jpg](eg.jpg)"
   ]
  },
  {
   "cell_type": "code",
   "execution_count": 44,
   "metadata": {
    "pycharm": {
     "name": "#%%\n"
    }
   },
   "outputs": [
    {
     "name": "stdout",
     "output_type": "stream",
     "text": [
      "NODE: 2\n",
      "NODE: 4\n",
      "NODE: 3\n",
      "NODE: 5\n",
      "NODE: 7\n",
      "NODE: 6\n"
     ]
    }
   ],
   "source": [
    "def dfs_inOrder(tree: Node):\n",
    "    if tree is None:\n",
    "        return 0\n",
    "    dfs_inOrder(tree.left)\n",
    "    print(tree)\n",
    "    dfs_inOrder(tree.right)\n",
    "dfs_inOrder(T)"
   ]
  },
  {
   "cell_type": "markdown",
   "metadata": {},
   "source": [
    "```\n",
    "5.left, 5, 5.right\n",
    "4.left, 4, 4.right , 5, 5.right\n",
    "2, 4, 3, 5, 6.left, 6, 6.right\n",
    "2, 4, 3, 5, 7, 6\n",
    "```\n",
    "![eg.jpg](eg.jpg)"
   ]
  },
  {
   "cell_type": "code",
   "execution_count": 45,
   "metadata": {
    "pycharm": {
     "name": "#%%\n"
    }
   },
   "outputs": [
    {
     "name": "stdout",
     "output_type": "stream",
     "text": [
      "NODE: 5\n",
      "NODE: 4\n",
      "NODE: 2\n",
      "NODE: 3\n",
      "NODE: 6\n",
      "NODE: 7\n"
     ]
    }
   ],
   "source": [
    "def dfs_preOrder(tree: Node):\n",
    "    if tree is None :\n",
    "        return\n",
    "    print(tree)\n",
    "    dfs_preOrder(tree.left)\n",
    "    dfs_preOrder(tree.right)\n",
    "dfs_preOrder(T)"
   ]
  },
  {
   "cell_type": "markdown",
   "metadata": {},
   "source": [
    "![eg.jpg](eg.jpg)"
   ]
  },
  {
   "cell_type": "code",
   "execution_count": 46,
   "metadata": {
    "pycharm": {
     "name": "#%%\n"
    }
   },
   "outputs": [
    {
     "name": "stdout",
     "output_type": "stream",
     "text": [
      "NODE: 2\n",
      "NODE: 3\n",
      "NODE: 4\n",
      "NODE: 7\n",
      "NODE: 6\n",
      "NODE: 5\n"
     ]
    }
   ],
   "source": [
    "def dfs_postOrder(tree: Node):\n",
    "    if tree is None :\n",
    "        return\n",
    "    dfs_postOrder(tree.left)\n",
    "    dfs_postOrder(tree.right)\n",
    "    print(tree)\n",
    "dfs_postOrder(T)"
   ]
  },
  {
   "cell_type": "code",
   "execution_count": 47,
   "metadata": {
    "pycharm": {
     "name": "#%%\n"
    },
    "scrolled": true
   },
   "outputs": [
    {
     "data": {
      "text/plain": [
       "[NODE: 2, NODE: 4, NODE: 3, NODE: 5, NODE: 7, NODE: 6]"
      ]
     },
     "execution_count": 47,
     "metadata": {},
     "output_type": "execute_result"
    }
   ],
   "source": [
    "def dfs_inOrder_(tree: Node):\n",
    "    if tree is None :\n",
    "        return []\n",
    "    resp = []\n",
    "    resp += dfs_inOrder_(tree.left)\n",
    "    resp.append(tree)\n",
    "    resp += dfs_inOrder_(tree.right)\n",
    "    return resp\n",
    "dfs_inOrder_(T)"
   ]
  },
  {
   "cell_type": "markdown",
   "metadata": {},
   "source": [
    "![eg.jpg](eg.jpg)"
   ]
  },
  {
   "cell_type": "code",
   "execution_count": 48,
   "metadata": {
    "pycharm": {
     "name": "#%%\n"
    }
   },
   "outputs": [
    {
     "data": {
      "text/plain": [
       "[NODE: 5, NODE: 4, NODE: 6, NODE: 2, NODE: 3, NODE: 7]"
      ]
     },
     "execution_count": 48,
     "metadata": {},
     "output_type": "execute_result"
    }
   ],
   "source": [
    "def bfs(tree: Node):\n",
    "    queue = [tree]\n",
    "    while queue:\n",
    "        t = queue.pop(0)\n",
    "        if t is None: continue\n",
    "        queue.append(t.left)\n",
    "        queue.append(t.right)\n",
    "        yield t\n",
    "list(bfs(T))"
   ]
  },
  {
   "cell_type": "code",
   "execution_count": 51,
   "metadata": {},
   "outputs": [
    {
     "name": "stdout",
     "output_type": "stream",
     "text": [
      "NODE: 5\n",
      "NODE: 4\n",
      "NODE: 6\n",
      "NODE: 2\n",
      "NODE: 3\n",
      "NODE: 7\n"
     ]
    }
   ],
   "source": [
    "for i in bfs(T):\n",
    "    print(i)"
   ]
  },
  {
   "cell_type": "code",
   "execution_count": 54,
   "metadata": {},
   "outputs": [
    {
     "name": "stdout",
     "output_type": "stream",
     "text": [
      "generator started:\n",
      "i is  4\n",
      "\n",
      "one step passed\n",
      "i is  7\n",
      "\n",
      "two step passed\n",
      "i is  0\n",
      "\n"
     ]
    }
   ],
   "source": [
    "def myGenerator():\n",
    "    print(\"generator started:\")\n",
    "    yield 4\n",
    "    print(\"one step passed\")\n",
    "    yield 7\n",
    "    print(\"two step passed\")\n",
    "    yield 0\n",
    "\n",
    "for i in myGenerator():\n",
    "    print(\"i is \",i)\n",
    "    input()"
   ]
  },
  {
   "cell_type": "markdown",
   "metadata": {
    "pycharm": {
     "name": "#%% md\n"
    }
   },
   "source": [
    "# Questions:\n",
    "## Question1:\n",
    "make a tree that introduces the expression `2+3*5*(4+8)`(like what we did in last session)\n",
    "and find witch traverse can print it correctly\n",
    "\n",
    "## Question2:\n",
    "implementing `dfs` using recursive approach can cause some problems\n",
    "1. try to produce that problem\n",
    "2. implement this functions using other approach(use stacks)"
   ]
  },
  {
   "cell_type": "code",
   "execution_count": null,
   "metadata": {},
   "outputs": [],
   "source": [
    "def dfs_inOrder(tree):\n",
    "    stack = []\n",
    "    resp = []\n",
    "    while stack:\n",
    "        pass\n",
    "    return resp"
   ]
  }
 ],
 "metadata": {
  "kernelspec": {
   "display_name": "PyCharm (HW3)",
   "language": "python",
   "name": "pycharm-689d67d1"
  },
  "language_info": {
   "codemirror_mode": {
    "name": "ipython",
    "version": 3
   },
   "file_extension": ".py",
   "mimetype": "text/x-python",
   "name": "python",
   "nbconvert_exporter": "python",
   "pygments_lexer": "ipython3",
   "version": "3.8.5"
  }
 },
 "nbformat": 4,
 "nbformat_minor": 1
}