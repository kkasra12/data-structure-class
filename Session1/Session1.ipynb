{
 "cells": [
  {
   "cell_type": "markdown",
   "metadata": {},
   "source": [
    "# Warm Up Question\n",
    "\n",
    "find the order of these functions:\n",
    "\n",
    "$$\n",
    "\\sin{(x)}=\\sum_{n=0}^\\infty\\frac{{(-1)}^n}{{(2n+1)}!}x^{2n+1}=x-\\frac{x^3}{3!}+\\frac{x^5}{5!}-\\frac{x^7}{7!}+\\cdots\n",
    "$$"
   ]
  },
  {
   "cell_type": "code",
   "execution_count": 82,
   "metadata": {},
   "outputs": [
    {
     "name": "stdout",
     "output_type": "stream",
     "text": [
      "first method: 0.7071067811865475\n",
      "secind method: 0.7071067811865475\n",
      "0.7071067811865476\n"
     ]
    }
   ],
   "source": [
    "from math import factorial,pi\n",
    "def sin0(x,N=25):\n",
    "    return sum((-1)**n*x**(2*n+1)/factorial(2*n+1) for n in range(N))\n",
    "\n",
    "def sin0(x,n=25):\n",
    "    s = 0\n",
    "    for i in range(N):\n",
    "        s += (-1)**n*x**(2*n+1)/factorial(2*n+1)\n",
    "    return s\n",
    "\n",
    "def sin1(x,N=25):\n",
    "    k = 1\n",
    "    X = x\n",
    "    fact = 1\n",
    "    s = 0\n",
    "    for i in range(N):\n",
    "        s += X*k/fact\n",
    "        X *= x*x\n",
    "        k *= -1\n",
    "        fact *= (2*i+2)*(2*i+3)\n",
    "    return s\n",
    "        \n",
    "print(\"first method:\",sin0(pi/4))\n",
    "print(\"secind method:\",sin1(pi/4))\n",
    "print(2**0.5/2)"
   ]
  },
  {
   "cell_type": "code",
   "execution_count": 83,
   "metadata": {},
   "outputs": [
    {
     "name": "stdout",
     "output_type": "stream",
     "text": [
      "18.5 µs ± 1.61 µs per loop (mean ± std. dev. of 7 runs, 10000 loops each)\n"
     ]
    }
   ],
   "source": [
    "%%timeit\n",
    "sin0(pi/4)"
   ]
  },
  {
   "cell_type": "code",
   "execution_count": 84,
   "metadata": {},
   "outputs": [
    {
     "name": "stdout",
     "output_type": "stream",
     "text": [
      "8.38 µs ± 560 ns per loop (mean ± std. dev. of 7 runs, 100000 loops each)\n"
     ]
    }
   ],
   "source": [
    "%%timeit\n",
    "sin1(pi/4)"
   ]
  },
  {
   "cell_type": "code",
   "execution_count": 85,
   "metadata": {},
   "outputs": [
    {
     "name": "stdout",
     "output_type": "stream",
     "text": [
      "47.7 µs ± 3.42 µs per loop (mean ± std. dev. of 7 runs, 10000 loops each)\n"
     ]
    }
   ],
   "source": [
    "%%timeit\n",
    "sin0(pi/4,N=50)"
   ]
  },
  {
   "cell_type": "code",
   "execution_count": 86,
   "metadata": {},
   "outputs": [
    {
     "name": "stdout",
     "output_type": "stream",
     "text": [
      "16.9 µs ± 395 ns per loop (mean ± std. dev. of 7 runs, 100000 loops each)\n"
     ]
    }
   ],
   "source": [
    "%%timeit\n",
    "sin1(pi/4,N=50)"
   ]
  },
  {
   "cell_type": "markdown",
   "metadata": {},
   "source": [
    "## Arrays (continue)\n",
    "\n",
    "imagine have this array:\n",
    "\n",
    "```python\n",
    "[8,12,45,3]\n",
    "```\n",
    "\n",
    "now what we should do if we want to add number `5` after `12`?\n",
    "\n",
    "1- shift all elemenys forward to make an empty place $\\mathcal{O}(N)$\n",
    "```python\n",
    "[8,12,-,45,3]\n",
    "```\n",
    "2- add new number in that place $\\mathcal{O}(1)$\n",
    "```python\n",
    "[8,12,5,45,3]\n",
    "```\n",
    "\n",
    "**Question:** How can we do `insert` operation in $\\mathcal{O}(1)$ ?"
   ]
  },
  {
   "cell_type": "code",
   "execution_count": 9,
   "metadata": {},
   "outputs": [
    {
     "data": {
      "text/plain": [
       "[8, 12, 5, 45, 3]"
      ]
     },
     "execution_count": 9,
     "metadata": {},
     "output_type": "execute_result"
    }
   ],
   "source": [
    "def insert(arr,val,index):\n",
    "    arr.append(0)\n",
    "    for i in range(len(arr)-1,index,-1):\n",
    "        arr[i] = arr[i-1]\n",
    "    return arr\n",
    "\n",
    "insert([8,12,45,3],5,2)"
   ]
  },
  {
   "cell_type": "markdown",
   "metadata": {},
   "source": [
    "# Linked List "
   ]
  },
  {
   "cell_type": "markdown",
   "metadata": {},
   "source": [
    "## definition\n",
    "\n",
    "a linked list is a linear collection of data elements whose order is not given by their physical placement in memory. Instead, each element points to the next. It is a data structure consisting of a collection of nodes which together represent a sequence.\n",
    "\n",
    "each node contains:\n",
    "- data\n",
    "- pointer\n",
    "\n",
    "![Singly-linked-list.png](Singly-linked-list.png)"
   ]
  },
  {
   "cell_type": "markdown",
   "metadata": {},
   "source": [
    "## Linked List API\n",
    "\n",
    "- append\n",
    "- insertAfter\n",
    "- delete\n",
    "- index"
   ]
  },
  {
   "cell_type": "code",
   "execution_count": 130,
   "metadata": {},
   "outputs": [],
   "source": [
    "class Node:\n",
    "    def __init__(self,data,nextNode=None):\n",
    "        self.data = data\n",
    "        self.next = nextNode\n",
    "    def __str__(self):\n",
    "        return f\"Node(data={self.data})\"\n",
    "    def __repr__(self):\n",
    "        return str(self)\n",
    "\n",
    "class LinkedList:\n",
    "    def __init__(self,head=None):\n",
    "        self.head = head\n",
    "    \n",
    "    def __iter__(self):\n",
    "        self.__lastNode = self.head\n",
    "        return self\n",
    "    \n",
    "    def __next__(self):\n",
    "        if self.__lastNode is None:\n",
    "            raise StopIteration\n",
    "        t = self.__lastNode\n",
    "        self.__lastNode = self.__lastNode.next\n",
    "        return t\n",
    "    \n",
    "    def __str__(self):\n",
    "        return \" --> \".join([str(i) for i in self])\n",
    "    \n",
    "    def __repr__(self):\n",
    "        return str(self)\n",
    "    \n",
    "    def lastNode(self):\n",
    "        if self.head is not None:\n",
    "            for i in self:\n",
    "                pass\n",
    "            return i\n",
    "\n",
    "    def append(self,newNode):\n",
    "        if self.head:\n",
    "            self.lastNode().next = newNode\n",
    "        else:\n",
    "            self.head = newNode\n",
    "    \n",
    "    def insert(self, newNode, index):\n",
    "        for index_,node in enumerate(self):\n",
    "            if index_ == index:\n",
    "                newNode.next = node.next\n",
    "                node.next = newNode\n",
    "                break\n",
    "    \n",
    "    def delete(self, index):\n",
    "        for index_,node in enumerate(self):\n",
    "            if index_ == index-1:\n",
    "                node.next = node.next.next\n",
    "                break\n",
    "    \n",
    "    def changeHead(self, newNode):\n",
    "        # this is your task :)\n",
    "        pass\n",
    "    \n",
    "    def reverse(self):\n",
    "        # this is your task :)\n",
    "        pass\n",
    "    "
   ]
  },
  {
   "cell_type": "code",
   "execution_count": 133,
   "metadata": {},
   "outputs": [
    {
     "name": "stdout",
     "output_type": "stream",
     "text": [
      "Node(data=5)\n",
      "Node(data=4)\n",
      "Node(data=6)\n",
      "Node(data=10)\n",
      "Node(data=5) --> Node(data=4) --> Node(data=6) --> Node(data=10)\n",
      "Node(data=5) --> Node(data=12) --> Node(data=4) --> Node(data=6) --> Node(data=10)\n",
      "Node(data=5) --> Node(data=12) --> Node(data=6) --> Node(data=10)\n"
     ]
    }
   ],
   "source": [
    "mylst = LinkedList()\n",
    "mylst.append(Node(5))\n",
    "mylst.append(Node(4))\n",
    "mylst.append(Node(6))\n",
    "mylst.append(Node(10))\n",
    "for i in mylst:\n",
    "    print(i)\n",
    "print(mylst)\n",
    "mylst.insert(Node(12),0)\n",
    "print(mylst)\n",
    "mylst.delete(2)\n",
    "print(mylst)"
   ]
  },
  {
   "cell_type": "markdown",
   "metadata": {},
   "source": [
    "## Sorted Linked List"
   ]
  },
  {
   "cell_type": "code",
   "execution_count": 113,
   "metadata": {},
   "outputs": [],
   "source": [
    "class SortedLinkedList(LinkedList):\n",
    "    def insert(self,newNode):\n",
    "        if self.head is None:\n",
    "            self.head = newNode\n",
    "            return\n",
    "        if newNode.data < self.head.data:\n",
    "            newNode.next = self.head\n",
    "            self.head = newNode\n",
    "            return\n",
    "        for node in self:\n",
    "            if node.next is None or newNode.data < node.next.data:\n",
    "                newNode.next = node.next\n",
    "                node.next = newNode\n",
    "                return"
   ]
  },
  {
   "cell_type": "code",
   "execution_count": 134,
   "metadata": {},
   "outputs": [
    {
     "name": "stdout",
     "output_type": "stream",
     "text": [
      "Node(data=4) --> Node(data=5) --> Node(data=6) --> Node(data=10)\n"
     ]
    }
   ],
   "source": [
    "mylst = SortedLinkedList()\n",
    "mylst.insert(Node(5))\n",
    "mylst.insert(Node(10))\n",
    "mylst.insert(Node(6))\n",
    "mylst.insert(Node(4))\n",
    "print(mylst)"
   ]
  },
  {
   "cell_type": "markdown",
   "metadata": {},
   "source": [
    "**Question:** whats the order of sorting an array using `SortedLinkedList` ?"
   ]
  },
  {
   "cell_type": "markdown",
   "metadata": {},
   "source": [
    "## Doubly Linked List"
   ]
  },
  {
   "cell_type": "code",
   "execution_count": 147,
   "metadata": {},
   "outputs": [],
   "source": [
    "class DNode:\n",
    "    def __init__(self,data,nextNode=None):\n",
    "        self.data = data\n",
    "        self._next = nextNode\n",
    "        self._perv = None\n",
    "  \n",
    "    @property\n",
    "    def next(self):\n",
    "        return self._next\n",
    "    \n",
    "    @next.setter\n",
    "    def next(self, newNode):\n",
    "        self._next = newNode\n",
    "        newNode._perv = self\n",
    "        \n",
    "    @property\n",
    "    def perv(self):\n",
    "        return self._perv\n",
    "    \n",
    "    def __str__(self):\n",
    "        return f\"Node(data={self.data})\"\n",
    "    def __repr__(self):\n",
    "        return str(self)"
   ]
  },
  {
   "cell_type": "code",
   "execution_count": 143,
   "metadata": {},
   "outputs": [
    {
     "name": "stdout",
     "output_type": "stream",
     "text": [
      "Node(data=5) --> Node(data=10) --> Node(data=6) --> Node(data=4)\n"
     ]
    },
    {
     "data": {
      "text/plain": [
       "Node(data=6)"
      ]
     },
     "execution_count": 143,
     "metadata": {},
     "output_type": "execute_result"
    }
   ],
   "source": [
    "mylst = LinkedList()\n",
    "mylst.append(DNode(5))\n",
    "mylst.append(DNode(10))\n",
    "mylst.append(DNode(6))\n",
    "mylst.append(DNode(4))\n",
    "print(mylst)\n",
    "mylst.lastNode().perv"
   ]
  },
  {
   "cell_type": "code",
   "execution_count": 148,
   "metadata": {},
   "outputs": [],
   "source": []
  },
  {
   "cell_type": "markdown",
   "metadata": {},
   "source": [
    "# Questions\n",
    "\n",
    "0. (miniQuestion)given a linked list detect if it has any loop or not.\n",
    "1. given two linked list, detect if they have overlap or not\n"
   ]
  },
  {
   "cell_type": "code",
   "execution_count": 156,
   "metadata": {},
   "outputs": [],
   "source": [
    "def overLap(L1,L2):\n",
    "    pass\n",
    "nodes = [Node(i) for i in range(10)]\n",
    "nodess= [Node(i) for i in range(15)]\n",
    "for i in range(9):\n",
    "    nodes[i].next = nodes[i+1]\n",
    "for i in range(14):\n",
    "    nodess[i].next = nodess[i+1]\n",
    "\n",
    "nodess[-1].next = nodes[6]\n",
    "L1 = LinkedList(nodes[0])\n",
    "L2 = LinkedList(nodess[0])\n",
    "overLap(LinkedList(nodes[0]),LinkedList(nodess[0]))\n",
    "# should return True"
   ]
  },
  {
   "cell_type": "code",
   "execution_count": 157,
   "metadata": {},
   "outputs": [
    {
     "name": "stdout",
     "output_type": "stream",
     "text": [
      "Node(data=0) --> Node(data=1) --> Node(data=2) --> Node(data=3) --> Node(data=4) --> Node(data=5) --> Node(data=6) --> Node(data=7) --> Node(data=8) --> Node(data=9)\n"
     ]
    }
   ],
   "source": [
    "print(L1)"
   ]
  },
  {
   "cell_type": "code",
   "execution_count": 158,
   "metadata": {},
   "outputs": [
    {
     "name": "stdout",
     "output_type": "stream",
     "text": [
      "Node(data=0) --> Node(data=1) --> Node(data=2) --> Node(data=3) --> Node(data=4) --> Node(data=5) --> Node(data=6) --> Node(data=7) --> Node(data=8) --> Node(data=9) --> Node(data=10) --> Node(data=11) --> Node(data=12) --> Node(data=13) --> Node(data=14) --> Node(data=6) --> Node(data=7) --> Node(data=8) --> Node(data=9)\n"
     ]
    }
   ],
   "source": [
    "print(L2)"
   ]
  },
  {
   "cell_type": "code",
   "execution_count": 162,
   "metadata": {},
   "outputs": [
    {
     "name": "stdout",
     "output_type": "stream",
     "text": [
      "Node(data=0) --> Node(data=1) --> Node(data=2) --> Node(data=3) --> Node(data=4) --> Node(data=5) --> Node(data=6) --> Node(data=7) --> Node(data=8) --> Node(data=9)\n",
      "------\n",
      "Node(data=4) --> Node(data=1) --> Node(data=2) --> Node(data=3) --> Node(data=4) --> Node(data=5) --> Node(data=6) --> Node(data=7) --> Node(data=8) --> Node(data=9) --> Node(data=10) --> Node(data=11) --> Node(data=12) --> Node(data=13) --> Node(data=14) --> Node(data=6) --> Node(data=7) --> Node(data=8) --> Node(data=9)\n"
     ]
    }
   ],
   "source": [
    "L2.head.data = 4\n",
    "print(L1)\n",
    "print(\"------\")\n",
    "print(L2)"
   ]
  },
  {
   "cell_type": "code",
   "execution_count": 163,
   "metadata": {},
   "outputs": [
    {
     "name": "stdout",
     "output_type": "stream",
     "text": [
      "Node(data=0) --> Node(data=1) --> Node(data=2) --> Node(data=3) --> Node(data=4) --> Node(data=5) --> Node(data=6) --> Node(data=7) --> Node(data=8) --> Node(data=100)\n",
      "------\n",
      "Node(data=4) --> Node(data=1) --> Node(data=2) --> Node(data=3) --> Node(data=4) --> Node(data=5) --> Node(data=6) --> Node(data=7) --> Node(data=8) --> Node(data=9) --> Node(data=10) --> Node(data=11) --> Node(data=12) --> Node(data=13) --> Node(data=14) --> Node(data=6) --> Node(data=7) --> Node(data=8) --> Node(data=100)\n"
     ]
    }
   ],
   "source": [
    "L2.lastNode().data = 100\n",
    "print(L1)\n",
    "print(\"------\")\n",
    "print(L2)"
   ]
  },
  {
   "cell_type": "code",
   "execution_count": 164,
   "metadata": {},
   "outputs": [
    {
     "name": "stdout",
     "output_type": "stream",
     "text": [
      "140631199084304\n",
      "140631199084352\n"
     ]
    }
   ],
   "source": [
    "print(id(L2.head))\n",
    "print(id(L1.head))"
   ]
  },
  {
   "cell_type": "code",
   "execution_count": 165,
   "metadata": {},
   "outputs": [
    {
     "name": "stdout",
     "output_type": "stream",
     "text": [
      "140631196489808\n",
      "140631196489808\n"
     ]
    }
   ],
   "source": [
    "print(id(L2.lastNode()))\n",
    "print(id(L1.lastNode()))"
   ]
  },
  {
   "cell_type": "code",
   "execution_count": 167,
   "metadata": {},
   "outputs": [
    {
     "name": "stdout",
     "output_type": "stream",
     "text": [
      "True\n",
      "False\n"
     ]
    }
   ],
   "source": [
    "print(L2.lastNode() is L1.lastNode())\n",
    "print(L2.head is L1.head)"
   ]
  },
  {
   "cell_type": "code",
   "execution_count": null,
   "metadata": {},
   "outputs": [],
   "source": []
  }
 ],
 "metadata": {
  "kernelspec": {
   "display_name": "Python 3",
   "language": "python",
   "name": "python3"
  },
  "language_info": {
   "codemirror_mode": {
    "name": "ipython",
    "version": 3
   },
   "file_extension": ".py",
   "mimetype": "text/x-python",
   "name": "python",
   "nbconvert_exporter": "python",
   "pygments_lexer": "ipython3",
   "version": "3.8.5"
  }
 },
 "nbformat": 4,
 "nbformat_minor": 4
}
