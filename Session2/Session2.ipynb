{
 "cells": [
  {
   "cell_type": "markdown",
   "metadata": {},
   "source": [
    "# Stacks and Queues\n",
    "\n",
    "Stacks and queues are dynamic sets in which the element removed from the set\n",
    "by the D ELETE operation is prespecified. In a stack, the element deleted from\n",
    "the set is the one most recently inserted: the stack implements a last-in, first-out,\n",
    "or LIFO, policy. Similarly, in a queue, the element deleted is always the one that\n",
    "has been in the set for the longest time: the queue implements a first-in, first-out,\n",
    "or FIFO, policy. There are several efficient ways to implement stacks and queues\n",
    "on a computer. In this section we show how to use a simple array to implement\n",
    "each"
   ]
  },
  {
   "cell_type": "markdown",
   "metadata": {},
   "source": [
    "## Stack\n",
    "![stack](stack01.png)\n",
    "![stack](stack02.png)\n",
    "API:\n",
    " - push(value): returns None\n",
    " - pop: returns most recently inserted value\n",
    " - last\n",
    " - size\n"
   ]
  },
  {
   "cell_type": "code",
   "execution_count": 5,
   "metadata": {},
   "outputs": [],
   "source": [
    "class Stack:\n",
    "    def __init__(self):\n",
    "        self.stack= []\n",
    "        \n",
    "    def push(self,item):\n",
    "        self.stack.append(item)\n",
    "        \n",
    "    def pop(self):\n",
    "        return self.stack.pop(-1)\n",
    "    \n",
    "    def last(self):\n",
    "        return self.stack[-1]\n",
    "    \n",
    "    def __len__(self):\n",
    "        return len(self.stack)\n",
    "        \n",
    "    def __str__(self):\n",
    "        return str(self.stack)\n",
    "    \n",
    "    def __repr__(self):\n",
    "        return \" - \".join([str(i) for i in self.stack])"
   ]
  },
  {
   "cell_type": "code",
   "execution_count": 33,
   "metadata": {},
   "outputs": [
    {
     "data": {
      "text/plain": [
       "3 - 2 - 1"
      ]
     },
     "execution_count": 33,
     "metadata": {},
     "output_type": "execute_result"
    }
   ],
   "source": [
    "myStack = Stack()\n",
    "myStack.push(1)\n",
    "myStack.push(2)\n",
    "myStack.push(3)\n",
    "myStack"
   ]
  },
  {
   "cell_type": "code",
   "execution_count": 34,
   "metadata": {},
   "outputs": [
    {
     "name": "stdout",
     "output_type": "stream",
     "text": [
      "\n",
      "1 - 2 - 3\n"
     ]
    }
   ],
   "source": [
    "recoveryStack = Stack()\n",
    "recoveryStack.push(myStack.pop())\n",
    "recoveryStack.push(myStack.pop())\n",
    "recoveryStack.push(myStack.pop())\n",
    "print(myStack)\n",
    "print(recoveryStack)"
   ]
  },
  {
   "cell_type": "markdown",
   "metadata": {},
   "source": [
    "### lets implement better stack"
   ]
  },
  {
   "cell_type": "code",
   "execution_count": 11,
   "metadata": {},
   "outputs": [],
   "source": [
    "class Stack:\n",
    "    def __init__(self,maxsize=None,dtype=None):\n",
    "        if dtype is not None and type(dtype)!=type:\n",
    "            raise ValueError(\"dtype must be a valid python type\")\n",
    "        self.dtype = dtype\n",
    "        if maxsize is None:\n",
    "            self.maxsize = float(\"inf\")\n",
    "        else:\n",
    "            self.maxsize = int(maxsize)\n",
    "        self.stack = []\n",
    "    def size(self):\n",
    "        return len(self.stack)\n",
    "    def push(self,item):\n",
    "        if self.dtype is not None and not isinstance(item, self.dtype):\n",
    "            raise ValueError(f\"{item} must be {self.dtype}\")\n",
    "        # if self.size()>self.maxsize-1:\n",
    "        if self.maxsize is not None and self.size()>self.maxsize-1:\n",
    "            raise OverflowError(f\"u cant insert more than {self.maxsize} in stack\")\n",
    "        self.stack.append(item)\n",
    "    def pop(self):\n",
    "        if self.size():\n",
    "            return self.stack.pop(-1)\n",
    "        raise OverflowError(\"can't pop from empty stack\")\n",
    "    def __str__(self):\n",
    "        if self.size()<50:\n",
    "            return \"[\"+\" \".join(str(i) for i in self.stack)+\"]\"\n",
    "        return \"[\"+\" \".join(str(i) for i in self.stack[:5])+\\\n",
    "              f\"...{self.stack[-1]}]\"\n",
    "    def __repr__(self):\n",
    "        return self.__str__()\n",
    "    def __len__(self):\n",
    "        return self.size()"
   ]
  },
  {
   "cell_type": "code",
   "execution_count": 12,
   "metadata": {},
   "outputs": [
    {
     "data": {
      "text/plain": [
       "[1 2 3]"
      ]
     },
     "execution_count": 12,
     "metadata": {},
     "output_type": "execute_result"
    }
   ],
   "source": [
    "myStack = Stack()\n",
    "myStack.push(1)\n",
    "myStack.push(2)\n",
    "myStack.push(3)\n",
    "myStack"
   ]
  },
  {
   "cell_type": "markdown",
   "metadata": {},
   "source": [
    "### Question\n",
    "\n",
    "the input is sequence of opening/closing parenthesis and brackets.your task is to find out if they are balanced or not.\n",
    "\n",
    "```python\n",
    "isBalanced(\"([])[]()\")             # True\n",
    "isBalanced(\"((([]([[]]()))))[()]\") # True\n",
    "isBalanced(\"([]]\")                 # False\n",
    "isBalanced(\"([)]\")                 # False\n",
    "isBalanced(\"][\")                   # False\n",
    "```"
   ]
  },
  {
   "cell_type": "markdown",
   "metadata": {},
   "source": [
    "### Array based implementation is not efficient\n",
    "\n",
    "implementing stacks using arrays is nit efficient(WHY?)\n",
    "\n",
    "to solve this problem, lets use linked lists"
   ]
  },
  {
   "cell_type": "code",
   "execution_count": 31,
   "metadata": {},
   "outputs": [],
   "source": [
    "class Node:\n",
    "    def __init__(self,data,nextNode=None):\n",
    "        self.data = data\n",
    "        self.next = nextNode\n",
    "    def __str__(self):\n",
    "        return f\"{self.data}\"\n",
    "    def __repr__(self):\n",
    "        return str(self)\n",
    "\n",
    "class LinkedList:\n",
    "    def __init__(self,head=None):\n",
    "        self.head = head\n",
    "    \n",
    "    def __iter__(self):\n",
    "        self.__lastNode = self.head\n",
    "        return self\n",
    "    \n",
    "    def __next__(self):\n",
    "        if self.__lastNode is None:\n",
    "            raise StopIteration\n",
    "        t = self.__lastNode\n",
    "        self.__lastNode = self.__lastNode.next\n",
    "        return t\n",
    "    \n",
    "    def __str__(self):\n",
    "        return \" - \".join([str(i) for i in self])\n",
    "    \n",
    "    def __repr__(self):\n",
    "        return str(self)\n",
    "    \n",
    "    def lastNode(self):\n",
    "        if self.head is not None:\n",
    "            for i in self:\n",
    "                pass\n",
    "            return i\n",
    "\n",
    "    def append(self,newNode):\n",
    "        if self.head:\n",
    "            self.lastNode().next = newNode\n",
    "        else:\n",
    "            self.head = newNode\n",
    "    \n",
    "    def insert(self, newNode, index):\n",
    "        for index_,node in enumerate(self):\n",
    "            if index_ == index:\n",
    "                newNode.next = node.next\n",
    "                node.next = newNode\n",
    "                break\n",
    "    \n",
    "    def delete(self, index):\n",
    "        for index_,node in enumerate(self):\n",
    "            if index_ == index-1:\n",
    "                node.next = node.next.next\n",
    "                break\n",
    "    \n",
    "    def changeHead(self, newNode):\n",
    "        newNode.next = self.head\n",
    "        self.head = newNode"
   ]
  },
  {
   "cell_type": "code",
   "execution_count": 25,
   "metadata": {},
   "outputs": [],
   "source": [
    "class Stack:\n",
    "    def __init__(self):\n",
    "        self.stack= LinkedList()\n",
    "        self.len = 0\n",
    "        \n",
    "    def push(self,item):\n",
    "        self.stack.changeHead(Node(item))\n",
    "        self.len += 1\n",
    "        \n",
    "    def pop(self):\n",
    "        lastNode = self.stack.head.data\n",
    "#         self.stack.changeHead(self.stack.head.next)\n",
    "        self.stack.head = self.stack.head.next\n",
    "        self.len -= 1\n",
    "        return lastNode\n",
    "    \n",
    "    def last(self):\n",
    "        return self.stack.head.data\n",
    "    \n",
    "    def __len__(self):\n",
    "        return self.len\n",
    "        \n",
    "    def __str__(self):\n",
    "        return str(self.stack)\n",
    "    \n",
    "    def __repr__(self):\n",
    "        return str(self)"
   ]
  },
  {
   "cell_type": "code",
   "execution_count": 29,
   "metadata": {},
   "outputs": [
    {
     "data": {
      "text/plain": [
       "3 - 2 - 1"
      ]
     },
     "execution_count": 29,
     "metadata": {},
     "output_type": "execute_result"
    }
   ],
   "source": [
    "myStack = Stack()\n",
    "myStack.push(1)\n",
    "myStack.push(2)\n",
    "myStack.push(3)\n",
    "myStack"
   ]
  },
  {
   "cell_type": "code",
   "execution_count": 30,
   "metadata": {},
   "outputs": [
    {
     "name": "stdout",
     "output_type": "stream",
     "text": [
      "3\n",
      "2\n",
      "1\n"
     ]
    }
   ],
   "source": [
    "print(myStack.pop())\n",
    "print(myStack.pop())\n",
    "print(myStack.pop())"
   ]
  },
  {
   "cell_type": "code",
   "execution_count": null,
   "metadata": {},
   "outputs": [],
   "source": []
  }
 ],
 "metadata": {
  "kernelspec": {
   "display_name": "Python 3",
   "language": "python",
   "name": "python3"
  },
  "language_info": {
   "codemirror_mode": {
    "name": "ipython",
    "version": 3
   },
   "file_extension": ".py",
   "mimetype": "text/x-python",
   "name": "python",
   "nbconvert_exporter": "python",
   "pygments_lexer": "ipython3",
   "version": "3.8.5"
  }
 },
 "nbformat": 4,
 "nbformat_minor": 4
}
